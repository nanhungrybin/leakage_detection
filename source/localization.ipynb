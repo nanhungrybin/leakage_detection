{
 "cells": [
  {
   "cell_type": "markdown",
   "metadata": {
    "id": "qUoZIzMtm5Ra"
   },
   "source": [
    "### 구글 드라이브 마운트"
   ]
  },
  {
   "cell_type": "code",
   "execution_count": 1,
   "metadata": {
    "colab": {
     "base_uri": "https://localhost:8080/"
    },
    "executionInfo": {
     "elapsed": 2742,
     "status": "ok",
     "timestamp": 1669037217689,
     "user": {
      "displayName": "이휘영",
      "userId": "05780814047568345287"
     },
     "user_tz": -540
    },
    "id": "MoRGSoxlRirq",
    "outputId": "df19779b-1472-47c2-a1c4-4427cfb29ed2"
   },
   "outputs": [
    {
     "name": "stdout",
     "output_type": "stream",
     "text": [
      "Drive already mounted at /content/drive/; to attempt to forcibly remount, call drive.mount(\"/content/drive/\", force_remount=True).\n"
     ]
    }
   ],
   "source": [
    "from google.colab import drive\n",
    "drive.mount('/content/drive/')"
   ]
  },
  {
   "cell_type": "markdown",
   "metadata": {
    "id": "g3cP0lz8m9fn"
   },
   "source": [
    "## 패키지 Import"
   ]
  },
  {
   "cell_type": "code",
   "execution_count": 2,
   "metadata": {
    "colab": {
     "base_uri": "https://localhost:8080/"
    },
    "executionInfo": {
     "elapsed": 5255,
     "status": "ok",
     "timestamp": 1669037222942,
     "user": {
      "displayName": "이휘영",
      "userId": "05780814047568345287"
     },
     "user_tz": -540
    },
    "id": "19nNoQiGrNS_",
    "outputId": "306958f6-840a-4dc4-e5f6-a936c765e622"
   },
   "outputs": [
    {
     "name": "stdout",
     "output_type": "stream",
     "text": [
      "2.9.2 1.21.6\n"
     ]
    }
   ],
   "source": [
    "# !pip install tensorflow==2.4.1\n",
    "# !pip install numpy==1.19.2\n",
    "import tensorflow as tf\n",
    "import numpy as np\n",
    "print(tf.__version__, np.__version__)"
   ]
  },
  {
   "cell_type": "code",
   "execution_count": 3,
   "metadata": {
    "executionInfo": {
     "elapsed": 7,
     "status": "ok",
     "timestamp": 1669037222942,
     "user": {
      "displayName": "이휘영",
      "userId": "05780814047568345287"
     },
     "user_tz": -540
    },
    "id": "s8KNCwmurPSq"
   },
   "outputs": [],
   "source": [
    "from tensorflow.keras.models import Sequential\n",
    "\n",
    "from tensorflow.keras.optimizers import Adam\n",
    "from tensorflow.keras import layers\n",
    "from tensorflow.keras.layers import LSTM,Dropout,Dense,TimeDistributed,Conv1D,MaxPooling1D,Flatten,BatchNormalization, Activation\n",
    "from tensorflow.keras import backend as K\n",
    "from tensorflow.keras.callbacks import EarlyStopping"
   ]
  },
  {
   "cell_type": "code",
   "execution_count": 4,
   "metadata": {
    "executionInfo": {
     "elapsed": 7,
     "status": "ok",
     "timestamp": 1669037222943,
     "user": {
      "displayName": "이휘영",
      "userId": "05780814047568345287"
     },
     "user_tz": -540
    },
    "id": "1iCM1ZckrVoP"
   },
   "outputs": [],
   "source": [
    "from tqdm import tqdm\n",
    "from numpy import fromfile\n",
    "import os\n",
    "from os import listdir\n",
    "from os.path import isfile, join"
   ]
  },
  {
   "cell_type": "markdown",
   "metadata": {
    "id": "LPPlXhlynn0j"
   },
   "source": [
    "로컬로부터 데이터를 불러오는 코드"
   ]
  },
  {
   "cell_type": "code",
   "execution_count": 5,
   "metadata": {
    "executionInfo": {
     "elapsed": 7,
     "status": "ok",
     "timestamp": 1669037222943,
     "user": {
      "displayName": "이휘영",
      "userId": "05780814047568345287"
     },
     "user_tz": -540
    },
    "id": "dndQjvS_8Ch1"
   },
   "outputs": [],
   "source": [
    "def prep_data_pretained(name, fluid, pressure, meta=False, pinhole=1, ch_loc={'ch1':2500, 'ch2':1600, 'ch3':0}, train=True, seconds=[x for x in range(120,360)]):\n",
    "  n_total_feature = 19*3+4*(meta)\n",
    "  n_feature = 19*3\n",
    "  n_channel = 3\n",
    "  output = []\n",
    "  os.chdir(f\"/content/drive/MyDrive/지하배관 안전관리 빅데이터 활용 경진대회/np_concat\")\n",
    "  load = np.load(f\"{name}_X.npy\")\n",
    "  load = load[seconds]\n",
    "  if meta:\n",
    "    output = []\n",
    "    for sec in load:\n",
    "      temp = sec\n",
    "      meta = np.array([ch_loc['ch1'], ch_loc['ch2'], ch_loc['ch3'], fluid, fluid, fluid, pressure, pressure, pressure, pinhole, pinhole, pinhole]).reshape(-1, 3)\n",
    "      temp = np.concatenate((temp, meta), axis=0)\n",
    "      output.append(temp)\n",
    "    output = np.asarray(output).reshape(-1, n_total_feature, n_channel)\n",
    "  else:\n",
    "    output = load\n",
    "  return output"
   ]
  },
  {
   "cell_type": "markdown",
   "metadata": {
    "id": "2leDHAjfnvhy"
   },
   "source": [
    "leakage dectection을 통해 'Y'인 로우만을 train set으로 사용<br>\n",
    "이 때 feature는 leakage detection과 동일하게 원본 signal값에 대해 preprocessing(FFT, FE)를 적용하여 얻은 57개 feature를 사용<br> meta data는 이용하지 않았다."
   ]
  },
  {
   "cell_type": "code",
   "execution_count": 6,
   "metadata": {
    "executionInfo": {
     "elapsed": 6,
     "status": "ok",
     "timestamp": 1669037222943,
     "user": {
      "displayName": "이휘영",
      "userId": "05780814047568345287"
     },
     "user_tz": -540
    },
    "id": "BdsSfcW2v9KA"
   },
   "outputs": [],
   "source": [
    "names = [\"Water_13Bar\", \"Water_18Bar\", \"Gas_13Bar\", \"Gas_18Bar\"]\n",
    "for name in names:\n",
    "  if name==\"Water_13Bar\":\n",
    "    temp = prep_data_pretained(name, 0, 13)\n",
    "  elif name==\"Water_18Bar\":\n",
    "    temp = prep_data_pretained(name, 0, 18)\n",
    "  elif name==\"Gas_13Bar\":\n",
    "    temp = prep_data_pretained(name, 1, 13)\n",
    "  else:\n",
    "    temp = prep_data_pretained(name, 1, 18)\n",
    "  os.chdir(f\"/content/drive/MyDrive/지하배관 안전관리 빅데이터 활용 경진대회/np_localization\")\n",
    "  np.save(f\"{name}_X.npy\",temp)"
   ]
  },
  {
   "cell_type": "code",
   "execution_count": 7,
   "metadata": {
    "executionInfo": {
     "elapsed": 6,
     "status": "ok",
     "timestamp": 1669037222943,
     "user": {
      "displayName": "이휘영",
      "userId": "05780814047568345287"
     },
     "user_tz": -540
    },
    "id": "DnDugb2QzIbG"
   },
   "outputs": [],
   "source": [
    "# os.chdir(f\"/content/drive/MyDrive/지하배관 안전관리 빅데이터 활용 경진대회/np_localization\")\n",
    "# l = []\n",
    "# names = [\"Water_13Bar_X.npy\", \"Water_18Bar_X.npy\", \"Gas_13Bar_X.npy\", \"Gas_18Bar_X.npy\"]\n",
    "# for name in names:\n",
    "#   l.append(np.load(name, allow_pickle=True))\n",
    "# train_X = np.asarray(l)\n",
    "# np.save(\"train_X.npy\", train_X)"
   ]
  },
  {
   "cell_type": "markdown",
   "metadata": {
    "id": "G0sTzG41oNkA"
   },
   "source": [
    "정답 데이터 작성, 이 때 정답 0.32는 전체 길이(2500)에 대해 leakage가 일어난 포인트(800)의 3채널로부터의 상대적인 위치 800/2500으로 정의"
   ]
  },
  {
   "cell_type": "code",
   "execution_count": 8,
   "metadata": {
    "executionInfo": {
     "elapsed": 7,
     "status": "ok",
     "timestamp": 1669037222944,
     "user": {
      "displayName": "이휘영",
      "userId": "05780814047568345287"
     },
     "user_tz": -540
    },
    "id": "MsNQk-MUnCuf"
   },
   "outputs": [],
   "source": [
    "train_y = np.array([0.32]*960).reshape(4,-1)\n",
    "np.save(\"train_y.npy\", train_y)"
   ]
  },
  {
   "cell_type": "code",
   "execution_count": 9,
   "metadata": {
    "executionInfo": {
     "elapsed": 7,
     "status": "ok",
     "timestamp": 1669037222944,
     "user": {
      "displayName": "이휘영",
      "userId": "05780814047568345287"
     },
     "user_tz": -540
    },
    "id": "exAh9EM-zwIu"
   },
   "outputs": [],
   "source": [
    "os.chdir(f\"/content/drive/MyDrive/지하배관 안전관리 빅데이터 활용 경진대회/np_localization\")\n",
    "train_X = np.load(\"train_X.npy\")\n",
    "train_y = np.load(\"train_y.npy\")"
   ]
  },
  {
   "cell_type": "code",
   "execution_count": 10,
   "metadata": {
    "colab": {
     "base_uri": "https://localhost:8080/"
    },
    "executionInfo": {
     "elapsed": 467,
     "status": "ok",
     "timestamp": 1669037223405,
     "user": {
      "displayName": "이휘영",
      "userId": "05780814047568345287"
     },
     "user_tz": -540
    },
    "id": "Tw4nu9oAz7KE",
    "outputId": "5d0fd90d-548e-4c81-c8d9-bcdd47cf46dc"
   },
   "outputs": [
    {
     "name": "stdout",
     "output_type": "stream",
     "text": [
      "(4, 240, 57, 3) (4, 240)\n"
     ]
    }
   ],
   "source": [
    "print(train_X.shape, train_y.shape)"
   ]
  },
  {
   "cell_type": "code",
   "execution_count": 11,
   "metadata": {
    "executionInfo": {
     "elapsed": 2,
     "status": "ok",
     "timestamp": 1669037223405,
     "user": {
      "displayName": "이휘영",
      "userId": "05780814047568345287"
     },
     "user_tz": -540
    },
    "id": "T3_DMCuRz9V5"
   },
   "outputs": [],
   "source": [
    "verbose, epochs, batch_size = True, 150, 30"
   ]
  },
  {
   "cell_type": "markdown",
   "metadata": {
    "id": "wkt-6rk2opdt"
   },
   "source": [
    "leakage detection과 동일하게 잠재 feature extracting을 위한 CNN Layer, 정답 값 추출을 위한 LSTM Layer로 구성됨"
   ]
  },
  {
   "cell_type": "code",
   "execution_count": 12,
   "metadata": {
    "colab": {
     "base_uri": "https://localhost:8080/"
    },
    "executionInfo": {
     "elapsed": 1106,
     "status": "ok",
     "timestamp": 1669037224509,
     "user": {
      "displayName": "이휘영",
      "userId": "05780814047568345287"
     },
     "user_tz": -540
    },
    "id": "wwLj396Xz_C9",
    "outputId": "3602f19a-c410-40fe-c286-21717aaabf82"
   },
   "outputs": [
    {
     "name": "stdout",
     "output_type": "stream",
     "text": [
      "Model: \"sequential\"\n",
      "_________________________________________________________________\n",
      " Layer (type)                Output Shape              Param #   \n",
      "=================================================================\n",
      " conv1d (Conv1D)             (None, 57, 32)            128       \n",
      "                                                                 \n",
      " conv1d_1 (Conv1D)           (None, 55, 32)            3104      \n",
      "                                                                 \n",
      " dropout (Dropout)           (None, 55, 32)            0         \n",
      "                                                                 \n",
      " max_pooling1d (MaxPooling1D  (None, 27, 32)           0         \n",
      " )                                                               \n",
      "                                                                 \n",
      " lstm (LSTM)                 (None, 100)               53200     \n",
      "                                                                 \n",
      " dropout_1 (Dropout)         (None, 100)               0         \n",
      "                                                                 \n",
      " dense (Dense)               (None, 100)               10100     \n",
      "                                                                 \n",
      " dense_1 (Dense)             (None, 1)                 101       \n",
      "                                                                 \n",
      "=================================================================\n",
      "Total params: 66,633\n",
      "Trainable params: 66,633\n",
      "Non-trainable params: 0\n",
      "_________________________________________________________________\n"
     ]
    }
   ],
   "source": [
    "# define model\n",
    "model = Sequential()\n",
    "model.add(Conv1D(filters=32, kernel_size=1, activation='relu', input_shape=(57, 3)))\n",
    "model.add(Conv1D(filters=32, kernel_size=3, activation='relu'))\n",
    "model.add(Dropout(0.5))\n",
    "model.add(MaxPooling1D(pool_size=2))\n",
    "# model.add(Flatten())\n",
    "model.add(LSTM(100))\n",
    "model.add(Dropout(0.5))\n",
    "model.add(Dense(100, activation='relu'))\n",
    "model.add(Dense(1))\n",
    "model.compile(loss=\"mse\", optimizer='adam', metrics=\"mape\")\n",
    "model.summary()"
   ]
  },
  {
   "cell_type": "code",
   "execution_count": 13,
   "metadata": {
    "executionInfo": {
     "elapsed": 6,
     "status": "ok",
     "timestamp": 1669037224510,
     "user": {
      "displayName": "이휘영",
      "userId": "05780814047568345287"
     },
     "user_tz": -540
    },
    "id": "nPXRxKBYzmnh"
   },
   "outputs": [],
   "source": [
    "early_stopping = EarlyStopping(monitor = 'val_loss', patience = 60, mode = 'auto')"
   ]
  },
  {
   "cell_type": "code",
   "execution_count": 14,
   "metadata": {
    "colab": {
     "base_uri": "https://localhost:8080/"
    },
    "executionInfo": {
     "elapsed": 204679,
     "status": "ok",
     "timestamp": 1669037429184,
     "user": {
      "displayName": "이휘영",
      "userId": "05780814047568345287"
     },
     "user_tz": -540
    },
    "id": "WQXk6aeb0DD7",
    "outputId": "2a9e7c7e-72dd-4192-e1e4-eeb30dc63dd3"
   },
   "outputs": [
    {
     "name": "stdout",
     "output_type": "stream",
     "text": [
      "Epoch 1/150\n",
      "7/7 [==============================] - 8s 324ms/step - loss: 0.5436 - mape: 185.9205 - val_loss: 0.3800 - val_mape: 191.7192\n",
      "Epoch 2/150\n",
      "7/7 [==============================] - 1s 79ms/step - loss: 0.2552 - mape: 127.4240 - val_loss: 0.2633 - val_mape: 159.2025\n",
      "Epoch 3/150\n",
      "7/7 [==============================] - 0s 66ms/step - loss: 0.1964 - mape: 112.8694 - val_loss: 0.0045 - val_mape: 17.6409\n",
      "Epoch 4/150\n",
      "7/7 [==============================] - 1s 77ms/step - loss: 0.1639 - mape: 104.4904 - val_loss: 0.0094 - val_mape: 25.7095\n",
      "Epoch 5/150\n",
      "7/7 [==============================] - 0s 34ms/step - loss: 0.1264 - mape: 90.2342 - val_loss: 0.0296 - val_mape: 43.7669\n",
      "Epoch 6/150\n",
      "7/7 [==============================] - 0s 36ms/step - loss: 0.0767 - mape: 67.1884 - val_loss: 0.0252 - val_mape: 41.4781\n",
      "Epoch 7/150\n",
      "7/7 [==============================] - 0s 38ms/step - loss: 0.0814 - mape: 70.7647 - val_loss: 0.0017 - val_mape: 10.4006\n",
      "Epoch 8/150\n",
      "7/7 [==============================] - 0s 37ms/step - loss: 0.0649 - mape: 62.2911 - val_loss: 0.0018 - val_mape: 11.5320\n",
      "Epoch 9/150\n",
      "7/7 [==============================] - 0s 35ms/step - loss: 0.0631 - mape: 61.5748 - val_loss: 0.0017 - val_mape: 10.2485\n",
      "Epoch 10/150\n",
      "7/7 [==============================] - 0s 36ms/step - loss: 0.0606 - mape: 59.1625 - val_loss: 0.0020 - val_mape: 10.5788\n",
      "Epoch 11/150\n",
      "7/7 [==============================] - 0s 37ms/step - loss: 0.0460 - mape: 54.3138 - val_loss: 0.0019 - val_mape: 11.0464\n",
      "Epoch 12/150\n",
      "7/7 [==============================] - 0s 34ms/step - loss: 0.0446 - mape: 51.7254 - val_loss: 0.0023 - val_mape: 12.9844\n",
      "Epoch 13/150\n",
      "7/7 [==============================] - 0s 34ms/step - loss: 0.0440 - mape: 50.0164 - val_loss: 0.0072 - val_mape: 26.3487\n",
      "Epoch 14/150\n",
      "7/7 [==============================] - 0s 34ms/step - loss: 0.0350 - mape: 47.5677 - val_loss: 0.0165 - val_mape: 39.9380\n",
      "Epoch 15/150\n",
      "7/7 [==============================] - 0s 36ms/step - loss: 0.0283 - mape: 42.2301 - val_loss: 0.0250 - val_mape: 49.2789\n",
      "Epoch 16/150\n",
      "7/7 [==============================] - 0s 36ms/step - loss: 0.0371 - mape: 48.0706 - val_loss: 0.0166 - val_mape: 40.0059\n",
      "Epoch 17/150\n",
      "7/7 [==============================] - 0s 34ms/step - loss: 0.0275 - mape: 40.8195 - val_loss: 0.0177 - val_mape: 41.3006\n",
      "Epoch 18/150\n",
      "7/7 [==============================] - 0s 34ms/step - loss: 0.0276 - mape: 41.9787 - val_loss: 0.0126 - val_mape: 34.8885\n",
      "Epoch 19/150\n",
      "7/7 [==============================] - 0s 35ms/step - loss: 0.0343 - mape: 46.7414 - val_loss: 0.0110 - val_mape: 32.5635\n",
      "Epoch 20/150\n",
      "7/7 [==============================] - 0s 34ms/step - loss: 0.0266 - mape: 39.1461 - val_loss: 0.0213 - val_mape: 45.4101\n",
      "Epoch 21/150\n",
      "7/7 [==============================] - 0s 33ms/step - loss: 0.0312 - mape: 44.5085 - val_loss: 0.0202 - val_mape: 44.2461\n",
      "Epoch 22/150\n",
      "7/7 [==============================] - 0s 34ms/step - loss: 0.0265 - mape: 39.4570 - val_loss: 0.0104 - val_mape: 31.6742\n",
      "Epoch 23/150\n",
      "7/7 [==============================] - 0s 34ms/step - loss: 0.0247 - mape: 38.2844 - val_loss: 0.0111 - val_mape: 32.5281\n",
      "Epoch 24/150\n",
      "7/7 [==============================] - 0s 38ms/step - loss: 0.0231 - mape: 37.3570 - val_loss: 0.0097 - val_mape: 30.5146\n",
      "Epoch 25/150\n",
      "7/7 [==============================] - 0s 34ms/step - loss: 0.0191 - mape: 34.9269 - val_loss: 0.0119 - val_mape: 33.8246\n",
      "Epoch 26/150\n",
      "7/7 [==============================] - 0s 33ms/step - loss: 0.0182 - mape: 33.8703 - val_loss: 0.0089 - val_mape: 29.2674\n",
      "Epoch 27/150\n",
      "7/7 [==============================] - 0s 35ms/step - loss: 0.0148 - mape: 29.1699 - val_loss: 0.0067 - val_mape: 25.2720\n",
      "Epoch 28/150\n",
      "7/7 [==============================] - 0s 40ms/step - loss: 0.0189 - mape: 34.5994 - val_loss: 0.0099 - val_mape: 30.8321\n",
      "Epoch 29/150\n",
      "7/7 [==============================] - 0s 36ms/step - loss: 0.0199 - mape: 35.0037 - val_loss: 0.0099 - val_mape: 30.9006\n",
      "Epoch 30/150\n",
      "7/7 [==============================] - 0s 44ms/step - loss: 0.0191 - mape: 32.6595 - val_loss: 0.0019 - val_mape: 13.3543\n",
      "Epoch 31/150\n",
      "7/7 [==============================] - 0s 52ms/step - loss: 0.0223 - mape: 36.3896 - val_loss: 0.0060 - val_mape: 24.0246\n",
      "Epoch 32/150\n",
      "7/7 [==============================] - 0s 56ms/step - loss: 0.0149 - mape: 30.1414 - val_loss: 0.0032 - val_mape: 17.0081\n",
      "Epoch 33/150\n",
      "7/7 [==============================] - 0s 52ms/step - loss: 0.0148 - mape: 30.8247 - val_loss: 4.3768e-04 - val_mape: 6.0354\n",
      "Epoch 34/150\n",
      "7/7 [==============================] - 0s 51ms/step - loss: 0.0173 - mape: 32.7633 - val_loss: 0.0048 - val_mape: 21.3787\n",
      "Epoch 35/150\n",
      "7/7 [==============================] - 0s 50ms/step - loss: 0.0133 - mape: 27.5301 - val_loss: 0.0099 - val_mape: 31.0585\n",
      "Epoch 36/150\n",
      "7/7 [==============================] - 0s 52ms/step - loss: 0.0134 - mape: 27.6636 - val_loss: 0.0035 - val_mape: 18.4101\n",
      "Epoch 37/150\n",
      "7/7 [==============================] - 0s 53ms/step - loss: 0.0138 - mape: 29.4376 - val_loss: 0.0042 - val_mape: 20.1903\n",
      "Epoch 38/150\n",
      "7/7 [==============================] - 0s 51ms/step - loss: 0.0138 - mape: 28.2635 - val_loss: 0.0098 - val_mape: 30.8553\n",
      "Epoch 39/150\n",
      "7/7 [==============================] - 0s 49ms/step - loss: 0.0155 - mape: 30.9179 - val_loss: 0.0041 - val_mape: 19.9284\n",
      "Epoch 40/150\n",
      "7/7 [==============================] - 0s 38ms/step - loss: 0.0124 - mape: 27.1848 - val_loss: 0.0075 - val_mape: 26.9965\n",
      "Epoch 41/150\n",
      "7/7 [==============================] - 0s 33ms/step - loss: 0.0112 - mape: 25.6116 - val_loss: 0.0191 - val_mape: 43.1923\n",
      "Epoch 42/150\n",
      "7/7 [==============================] - 0s 34ms/step - loss: 0.0133 - mape: 28.2808 - val_loss: 0.0171 - val_mape: 40.8166\n",
      "Epoch 43/150\n",
      "7/7 [==============================] - 0s 35ms/step - loss: 0.0094 - mape: 22.5193 - val_loss: 0.0054 - val_mape: 22.8068\n",
      "Epoch 44/150\n",
      "7/7 [==============================] - 0s 34ms/step - loss: 0.0128 - mape: 28.3007 - val_loss: 0.0137 - val_mape: 36.4935\n",
      "Epoch 45/150\n",
      "7/7 [==============================] - 0s 35ms/step - loss: 0.0093 - mape: 24.2086 - val_loss: 0.0127 - val_mape: 35.0835\n",
      "Epoch 46/150\n",
      "7/7 [==============================] - 0s 34ms/step - loss: 0.0098 - mape: 23.8112 - val_loss: 0.0055 - val_mape: 22.9112\n",
      "Epoch 47/150\n",
      "7/7 [==============================] - 0s 34ms/step - loss: 0.0107 - mape: 24.8550 - val_loss: 0.0083 - val_mape: 28.3469\n",
      "Epoch 48/150\n",
      "7/7 [==============================] - 0s 35ms/step - loss: 0.0089 - mape: 23.6807 - val_loss: 0.0154 - val_mape: 38.6815\n",
      "Epoch 49/150\n",
      "7/7 [==============================] - 0s 38ms/step - loss: 0.0111 - mape: 25.0822 - val_loss: 0.0125 - val_mape: 34.8054\n",
      "Epoch 50/150\n",
      "7/7 [==============================] - 0s 34ms/step - loss: 0.0086 - mape: 22.7016 - val_loss: 0.0089 - val_mape: 29.3928\n",
      "Epoch 51/150\n",
      "7/7 [==============================] - 0s 35ms/step - loss: 0.0080 - mape: 21.1899 - val_loss: 0.0082 - val_mape: 28.1650\n",
      "Epoch 52/150\n",
      "7/7 [==============================] - 0s 35ms/step - loss: 0.0084 - mape: 23.2670 - val_loss: 0.0107 - val_mape: 32.3088\n",
      "Epoch 53/150\n",
      "7/7 [==============================] - 0s 37ms/step - loss: 0.0079 - mape: 21.1135 - val_loss: 0.0134 - val_mape: 36.0859\n",
      "Epoch 54/150\n",
      "7/7 [==============================] - 0s 38ms/step - loss: 0.0085 - mape: 22.4374 - val_loss: 0.0088 - val_mape: 29.1697\n",
      "Epoch 55/150\n",
      "7/7 [==============================] - 0s 36ms/step - loss: 0.0074 - mape: 21.6904 - val_loss: 0.0056 - val_mape: 23.3956\n",
      "Epoch 56/150\n",
      "7/7 [==============================] - 0s 38ms/step - loss: 0.0085 - mape: 22.0160 - val_loss: 0.0130 - val_mape: 35.6123\n",
      "Epoch 57/150\n",
      "7/7 [==============================] - 0s 38ms/step - loss: 0.0068 - mape: 20.6990 - val_loss: 0.0069 - val_mape: 25.9705\n",
      "Epoch 58/150\n",
      "7/7 [==============================] - 0s 36ms/step - loss: 0.0069 - mape: 19.8313 - val_loss: 0.0109 - val_mape: 32.5853\n",
      "Epoch 59/150\n",
      "7/7 [==============================] - 0s 35ms/step - loss: 0.0082 - mape: 21.8445 - val_loss: 0.0081 - val_mape: 28.0653\n",
      "Epoch 60/150\n",
      "7/7 [==============================] - 0s 36ms/step - loss: 0.0066 - mape: 19.4804 - val_loss: 0.0082 - val_mape: 28.1927\n",
      "Epoch 61/150\n",
      "7/7 [==============================] - 0s 37ms/step - loss: 0.0079 - mape: 21.2235 - val_loss: 0.0109 - val_mape: 32.5810\n",
      "Epoch 62/150\n",
      "7/7 [==============================] - 0s 36ms/step - loss: 0.0059 - mape: 19.0793 - val_loss: 0.0081 - val_mape: 28.0900\n",
      "Epoch 63/150\n",
      "7/7 [==============================] - 0s 33ms/step - loss: 0.0060 - mape: 18.7909 - val_loss: 0.0095 - val_mape: 30.4029\n",
      "Epoch 64/150\n",
      "7/7 [==============================] - 0s 35ms/step - loss: 0.0060 - mape: 19.1975 - val_loss: 0.0065 - val_mape: 25.1038\n",
      "Epoch 65/150\n",
      "7/7 [==============================] - 0s 37ms/step - loss: 0.0062 - mape: 18.7624 - val_loss: 0.0082 - val_mape: 28.2913\n",
      "Epoch 66/150\n",
      "7/7 [==============================] - 0s 35ms/step - loss: 0.0058 - mape: 18.3094 - val_loss: 0.0084 - val_mape: 28.4723\n",
      "Epoch 67/150\n",
      "7/7 [==============================] - 0s 34ms/step - loss: 0.0060 - mape: 18.6618 - val_loss: 0.0074 - val_mape: 26.8936\n",
      "Epoch 68/150\n",
      "7/7 [==============================] - 0s 38ms/step - loss: 0.0057 - mape: 18.0304 - val_loss: 0.0084 - val_mape: 28.6141\n",
      "Epoch 69/150\n",
      "7/7 [==============================] - 0s 36ms/step - loss: 0.0057 - mape: 18.7816 - val_loss: 0.0029 - val_mape: 16.8725\n",
      "Epoch 70/150\n",
      "7/7 [==============================] - 0s 35ms/step - loss: 0.0068 - mape: 19.2765 - val_loss: 0.0090 - val_mape: 29.6467\n",
      "Epoch 71/150\n",
      "7/7 [==============================] - 0s 36ms/step - loss: 0.0049 - mape: 16.9984 - val_loss: 0.0105 - val_mape: 32.0275\n",
      "Epoch 72/150\n",
      "7/7 [==============================] - 0s 36ms/step - loss: 0.0058 - mape: 18.2356 - val_loss: 0.0057 - val_mape: 23.4435\n",
      "Epoch 73/150\n",
      "7/7 [==============================] - 0s 40ms/step - loss: 0.0057 - mape: 18.9393 - val_loss: 0.0094 - val_mape: 30.2276\n",
      "Epoch 74/150\n",
      "7/7 [==============================] - 0s 35ms/step - loss: 0.0053 - mape: 17.9434 - val_loss: 0.0108 - val_mape: 32.3807\n",
      "Epoch 75/150\n",
      "7/7 [==============================] - 0s 35ms/step - loss: 0.0037 - mape: 14.8472 - val_loss: 0.0081 - val_mape: 28.0310\n",
      "Epoch 76/150\n",
      "7/7 [==============================] - 0s 35ms/step - loss: 0.0059 - mape: 18.3258 - val_loss: 0.0120 - val_mape: 34.1888\n",
      "Epoch 77/150\n",
      "7/7 [==============================] - 0s 39ms/step - loss: 0.0051 - mape: 16.9288 - val_loss: 0.0084 - val_mape: 28.5385\n",
      "Epoch 78/150\n",
      "7/7 [==============================] - 0s 36ms/step - loss: 0.0040 - mape: 15.5623 - val_loss: 0.0038 - val_mape: 19.1775\n",
      "Epoch 79/150\n",
      "7/7 [==============================] - 0s 35ms/step - loss: 0.0052 - mape: 17.6590 - val_loss: 0.0075 - val_mape: 27.0057\n",
      "Epoch 80/150\n",
      "7/7 [==============================] - 0s 36ms/step - loss: 0.0056 - mape: 16.6994 - val_loss: 0.0042 - val_mape: 20.3020\n",
      "Epoch 81/150\n",
      "7/7 [==============================] - 0s 36ms/step - loss: 0.0045 - mape: 16.0117 - val_loss: 0.0057 - val_mape: 23.5993\n",
      "Epoch 82/150\n",
      "7/7 [==============================] - 0s 37ms/step - loss: 0.0041 - mape: 16.4891 - val_loss: 0.0074 - val_mape: 26.7512\n",
      "Epoch 83/150\n",
      "7/7 [==============================] - 0s 36ms/step - loss: 0.0037 - mape: 14.2922 - val_loss: 0.0023 - val_mape: 14.8229\n",
      "Epoch 84/150\n",
      "7/7 [==============================] - 0s 38ms/step - loss: 0.0039 - mape: 14.7186 - val_loss: 0.0042 - val_mape: 20.2326\n",
      "Epoch 85/150\n",
      "7/7 [==============================] - 0s 37ms/step - loss: 0.0044 - mape: 16.1813 - val_loss: 0.0061 - val_mape: 24.2650\n",
      "Epoch 86/150\n",
      "7/7 [==============================] - 0s 37ms/step - loss: 0.0046 - mape: 16.2153 - val_loss: 0.0023 - val_mape: 14.7920\n",
      "Epoch 87/150\n",
      "7/7 [==============================] - 0s 35ms/step - loss: 0.0051 - mape: 16.2793 - val_loss: 0.0058 - val_mape: 23.6635\n",
      "Epoch 88/150\n",
      "7/7 [==============================] - 0s 35ms/step - loss: 0.0034 - mape: 14.2903 - val_loss: 0.0011 - val_mape: 10.2434\n",
      "Epoch 89/150\n",
      "7/7 [==============================] - 0s 39ms/step - loss: 0.0037 - mape: 15.0851 - val_loss: 0.0019 - val_mape: 13.4509\n",
      "Epoch 90/150\n",
      "7/7 [==============================] - 0s 38ms/step - loss: 0.0035 - mape: 14.4609 - val_loss: 0.0027 - val_mape: 15.9764\n",
      "Epoch 91/150\n",
      "7/7 [==============================] - 0s 35ms/step - loss: 0.0036 - mape: 14.1615 - val_loss: 0.0035 - val_mape: 18.2721\n",
      "Epoch 92/150\n",
      "7/7 [==============================] - 0s 36ms/step - loss: 0.0039 - mape: 14.8827 - val_loss: 0.0023 - val_mape: 14.8364\n",
      "Epoch 93/150\n",
      "7/7 [==============================] - 0s 37ms/step - loss: 0.0038 - mape: 14.9301 - val_loss: 0.0033 - val_mape: 17.7239\n",
      "Epoch 1/150\n",
      "7/7 [==============================] - 0s 41ms/step - loss: 0.0034 - mape: 13.9501 - val_loss: 0.0046 - val_mape: 21.1313\n",
      "Epoch 2/150\n",
      "7/7 [==============================] - 0s 35ms/step - loss: 0.0026 - mape: 12.5771 - val_loss: 0.0021 - val_mape: 14.4644\n",
      "Epoch 3/150\n",
      "7/7 [==============================] - 0s 37ms/step - loss: 0.0030 - mape: 12.9879 - val_loss: 0.0052 - val_mape: 22.5354\n",
      "Epoch 4/150\n",
      "7/7 [==============================] - 0s 36ms/step - loss: 0.0028 - mape: 12.7643 - val_loss: 0.0058 - val_mape: 23.7494\n",
      "Epoch 5/150\n",
      "7/7 [==============================] - 0s 35ms/step - loss: 0.0041 - mape: 14.9541 - val_loss: 0.0016 - val_mape: 12.2856\n",
      "Epoch 6/150\n",
      "7/7 [==============================] - 0s 35ms/step - loss: 0.0033 - mape: 13.1837 - val_loss: 0.0050 - val_mape: 22.1920\n",
      "Epoch 7/150\n",
      "7/7 [==============================] - 0s 36ms/step - loss: 0.0032 - mape: 13.6348 - val_loss: 0.0026 - val_mape: 16.0730\n",
      "Epoch 8/150\n",
      "7/7 [==============================] - 0s 35ms/step - loss: 0.0032 - mape: 13.2835 - val_loss: 0.0034 - val_mape: 18.3502\n",
      "Epoch 9/150\n",
      "7/7 [==============================] - 0s 36ms/step - loss: 0.0024 - mape: 12.1552 - val_loss: 0.0030 - val_mape: 17.1047\n",
      "Epoch 10/150\n",
      "7/7 [==============================] - 0s 37ms/step - loss: 0.0025 - mape: 12.0740 - val_loss: 4.9779e-04 - val_mape: 6.9365\n",
      "Epoch 11/150\n",
      "7/7 [==============================] - 0s 37ms/step - loss: 0.0029 - mape: 13.5887 - val_loss: 0.0039 - val_mape: 19.5947\n",
      "Epoch 12/150\n",
      "7/7 [==============================] - 0s 36ms/step - loss: 0.0027 - mape: 12.6831 - val_loss: 0.0016 - val_mape: 12.4261\n",
      "Epoch 13/150\n",
      "7/7 [==============================] - 0s 35ms/step - loss: 0.0026 - mape: 12.1556 - val_loss: 0.0021 - val_mape: 14.2989\n",
      "Epoch 14/150\n",
      "7/7 [==============================] - 0s 35ms/step - loss: 0.0024 - mape: 12.0149 - val_loss: 0.0019 - val_mape: 13.4759\n",
      "Epoch 15/150\n",
      "7/7 [==============================] - 0s 37ms/step - loss: 0.0024 - mape: 11.6884 - val_loss: 0.0016 - val_mape: 12.6600\n",
      "Epoch 16/150\n",
      "7/7 [==============================] - 0s 36ms/step - loss: 0.0021 - mape: 11.1452 - val_loss: 0.0020 - val_mape: 13.8335\n",
      "Epoch 17/150\n",
      "7/7 [==============================] - 0s 35ms/step - loss: 0.0018 - mape: 10.4822 - val_loss: 0.0033 - val_mape: 18.0577\n",
      "Epoch 18/150\n",
      "7/7 [==============================] - 0s 35ms/step - loss: 0.0019 - mape: 11.0410 - val_loss: 0.0016 - val_mape: 12.4102\n",
      "Epoch 19/150\n",
      "7/7 [==============================] - 0s 37ms/step - loss: 0.0021 - mape: 11.2092 - val_loss: 9.0146e-04 - val_mape: 9.3777\n",
      "Epoch 20/150\n",
      "7/7 [==============================] - 0s 37ms/step - loss: 0.0022 - mape: 11.1490 - val_loss: 0.0025 - val_mape: 15.7329\n",
      "Epoch 21/150\n",
      "7/7 [==============================] - 0s 36ms/step - loss: 0.0024 - mape: 11.8149 - val_loss: 8.7942e-04 - val_mape: 9.2519\n",
      "Epoch 22/150\n",
      "7/7 [==============================] - 0s 36ms/step - loss: 0.0019 - mape: 10.3623 - val_loss: 0.0019 - val_mape: 13.6684\n",
      "Epoch 23/150\n",
      "7/7 [==============================] - 0s 39ms/step - loss: 0.0015 - mape: 9.4774 - val_loss: 5.0172e-04 - val_mape: 6.9662\n",
      "Epoch 24/150\n",
      "7/7 [==============================] - 0s 36ms/step - loss: 0.0027 - mape: 12.2538 - val_loss: 0.0020 - val_mape: 13.8222\n",
      "Epoch 25/150\n",
      "7/7 [==============================] - 0s 36ms/step - loss: 0.0017 - mape: 9.6447 - val_loss: 8.2731e-04 - val_mape: 8.9649\n",
      "Epoch 26/150\n",
      "7/7 [==============================] - 0s 35ms/step - loss: 0.0024 - mape: 10.3123 - val_loss: 0.0026 - val_mape: 16.0341\n",
      "Epoch 27/150\n",
      "7/7 [==============================] - 0s 38ms/step - loss: 0.0016 - mape: 9.9096 - val_loss: 6.2526e-04 - val_mape: 7.7812\n",
      "Epoch 28/150\n",
      "7/7 [==============================] - 0s 36ms/step - loss: 0.0023 - mape: 11.4978 - val_loss: 0.0022 - val_mape: 14.5189\n",
      "Epoch 29/150\n",
      "7/7 [==============================] - 0s 37ms/step - loss: 0.0025 - mape: 11.8662 - val_loss: 0.0039 - val_mape: 19.5478\n",
      "Epoch 30/150\n",
      "7/7 [==============================] - 0s 37ms/step - loss: 0.0016 - mape: 9.5844 - val_loss: 0.0024 - val_mape: 15.1778\n",
      "Epoch 31/150\n",
      "7/7 [==============================] - 0s 39ms/step - loss: 0.0016 - mape: 9.9547 - val_loss: 0.0034 - val_mape: 18.3439\n",
      "Epoch 32/150\n",
      "7/7 [==============================] - 0s 37ms/step - loss: 0.0025 - mape: 11.7239 - val_loss: 0.0022 - val_mape: 14.5024\n",
      "Epoch 33/150\n",
      "7/7 [==============================] - 0s 37ms/step - loss: 0.0019 - mape: 10.3377 - val_loss: 0.0040 - val_mape: 19.8525\n",
      "Epoch 34/150\n",
      "7/7 [==============================] - 0s 36ms/step - loss: 0.0022 - mape: 10.7347 - val_loss: 0.0015 - val_mape: 12.1214\n",
      "Epoch 35/150\n",
      "7/7 [==============================] - 0s 37ms/step - loss: 0.0019 - mape: 10.5211 - val_loss: 0.0031 - val_mape: 17.4811\n",
      "Epoch 36/150\n",
      "7/7 [==============================] - 0s 36ms/step - loss: 0.0024 - mape: 11.8801 - val_loss: 0.0032 - val_mape: 17.6120\n",
      "Epoch 37/150\n",
      "7/7 [==============================] - 0s 36ms/step - loss: 0.0016 - mape: 9.4541 - val_loss: 2.6333e-04 - val_mape: 4.9841\n",
      "Epoch 38/150\n",
      "7/7 [==============================] - 0s 36ms/step - loss: 0.0015 - mape: 9.3765 - val_loss: 0.0013 - val_mape: 11.1785\n",
      "Epoch 39/150\n",
      "7/7 [==============================] - 0s 40ms/step - loss: 0.0016 - mape: 9.3386 - val_loss: 4.9790e-04 - val_mape: 6.8894\n",
      "Epoch 40/150\n",
      "7/7 [==============================] - 0s 35ms/step - loss: 0.0016 - mape: 9.6981 - val_loss: 5.9258e-04 - val_mape: 7.5361\n",
      "Epoch 41/150\n",
      "7/7 [==============================] - 0s 37ms/step - loss: 0.0017 - mape: 10.0568 - val_loss: 2.2054e-04 - val_mape: 4.5671\n",
      "Epoch 42/150\n",
      "7/7 [==============================] - 0s 35ms/step - loss: 0.0017 - mape: 9.8133 - val_loss: 0.0013 - val_mape: 11.1193\n",
      "Epoch 43/150\n",
      "7/7 [==============================] - 0s 39ms/step - loss: 0.0019 - mape: 10.1312 - val_loss: 6.6649e-04 - val_mape: 8.0503\n",
      "Epoch 44/150\n",
      "7/7 [==============================] - 0s 36ms/step - loss: 0.0015 - mape: 9.3681 - val_loss: 4.4589e-04 - val_mape: 6.5826\n",
      "Epoch 45/150\n",
      "7/7 [==============================] - 0s 36ms/step - loss: 0.0017 - mape: 10.0014 - val_loss: 6.4872e-04 - val_mape: 7.9515\n",
      "Epoch 46/150\n",
      "7/7 [==============================] - 0s 36ms/step - loss: 0.0020 - mape: 10.6437 - val_loss: 4.9054e-04 - val_mape: 6.9136\n",
      "Epoch 47/150\n",
      "7/7 [==============================] - 0s 39ms/step - loss: 0.0016 - mape: 10.1035 - val_loss: 3.9689e-04 - val_mape: 6.2187\n",
      "Epoch 48/150\n",
      "7/7 [==============================] - 0s 36ms/step - loss: 0.0018 - mape: 10.2383 - val_loss: 5.1453e-04 - val_mape: 7.0773\n",
      "Epoch 49/150\n",
      "7/7 [==============================] - 0s 36ms/step - loss: 0.0017 - mape: 9.8082 - val_loss: 4.2518e-04 - val_mape: 6.4298\n",
      "Epoch 50/150\n",
      "7/7 [==============================] - 0s 36ms/step - loss: 0.0016 - mape: 9.8438 - val_loss: 9.9421e-04 - val_mape: 9.8491\n",
      "Epoch 51/150\n",
      "7/7 [==============================] - 0s 37ms/step - loss: 0.0017 - mape: 9.7985 - val_loss: 3.2646e-05 - val_mape: 1.7660\n",
      "Epoch 52/150\n",
      "7/7 [==============================] - 0s 36ms/step - loss: 0.0014 - mape: 8.8907 - val_loss: 0.0012 - val_mape: 10.9026\n",
      "Epoch 53/150\n",
      "7/7 [==============================] - 0s 37ms/step - loss: 0.0014 - mape: 8.8625 - val_loss: 6.5713e-05 - val_mape: 2.2567\n",
      "Epoch 54/150\n",
      "7/7 [==============================] - 0s 37ms/step - loss: 0.0015 - mape: 9.5963 - val_loss: 0.0019 - val_mape: 13.7166\n",
      "Epoch 55/150\n",
      "7/7 [==============================] - 0s 37ms/step - loss: 0.0011 - mape: 8.0278 - val_loss: 6.6987e-04 - val_mape: 8.0573\n",
      "Epoch 56/150\n",
      "7/7 [==============================] - 0s 38ms/step - loss: 0.0013 - mape: 8.4303 - val_loss: 0.0011 - val_mape: 10.2421\n",
      "Epoch 57/150\n",
      "7/7 [==============================] - 0s 37ms/step - loss: 0.0011 - mape: 8.3683 - val_loss: 5.0137e-04 - val_mape: 6.9705\n",
      "Epoch 58/150\n",
      "7/7 [==============================] - 0s 37ms/step - loss: 0.0012 - mape: 8.5122 - val_loss: 5.7377e-04 - val_mape: 7.4777\n",
      "Epoch 59/150\n",
      "7/7 [==============================] - 0s 37ms/step - loss: 0.0016 - mape: 8.8750 - val_loss: 0.0010 - val_mape: 10.1215\n",
      "Epoch 60/150\n",
      "7/7 [==============================] - 0s 36ms/step - loss: 0.0012 - mape: 8.6579 - val_loss: 8.5117e-04 - val_mape: 9.1170\n",
      "Epoch 61/150\n",
      "7/7 [==============================] - 0s 37ms/step - loss: 0.0014 - mape: 8.8579 - val_loss: 0.0012 - val_mape: 10.8172\n",
      "Epoch 62/150\n",
      "7/7 [==============================] - 0s 38ms/step - loss: 0.0012 - mape: 8.1761 - val_loss: 6.9439e-04 - val_mape: 8.2301\n",
      "Epoch 63/150\n",
      "7/7 [==============================] - 0s 35ms/step - loss: 0.0014 - mape: 9.0912 - val_loss: 0.0013 - val_mape: 11.2044\n",
      "Epoch 64/150\n",
      "7/7 [==============================] - 0s 37ms/step - loss: 0.0012 - mape: 8.4094 - val_loss: 6.0755e-04 - val_mape: 7.6934\n",
      "Epoch 65/150\n",
      "7/7 [==============================] - 0s 40ms/step - loss: 0.0017 - mape: 9.4576 - val_loss: 0.0011 - val_mape: 10.5836\n",
      "Epoch 66/150\n",
      "7/7 [==============================] - 0s 40ms/step - loss: 0.0016 - mape: 8.9461 - val_loss: 4.6050e-04 - val_mape: 6.7048\n",
      "Epoch 67/150\n",
      "7/7 [==============================] - 0s 35ms/step - loss: 0.0017 - mape: 8.7776 - val_loss: 5.7490e-04 - val_mape: 7.4855\n",
      "Epoch 68/150\n",
      "7/7 [==============================] - 0s 39ms/step - loss: 0.0012 - mape: 8.4036 - val_loss: 0.0015 - val_mape: 12.1204\n",
      "Epoch 69/150\n",
      "7/7 [==============================] - 0s 46ms/step - loss: 0.0015 - mape: 8.4743 - val_loss: 4.2370e-04 - val_mape: 6.4188\n",
      "Epoch 70/150\n",
      "7/7 [==============================] - 0s 43ms/step - loss: 0.0016 - mape: 9.3902 - val_loss: 6.2602e-04 - val_mape: 7.8079\n",
      "Epoch 71/150\n",
      "7/7 [==============================] - 0s 39ms/step - loss: 0.0013 - mape: 8.4737 - val_loss: 2.3709e-04 - val_mape: 4.7993\n",
      "Epoch 72/150\n",
      "7/7 [==============================] - 0s 37ms/step - loss: 0.0013 - mape: 8.6010 - val_loss: 7.4576e-04 - val_mape: 8.5237\n",
      "Epoch 73/150\n",
      "7/7 [==============================] - 0s 38ms/step - loss: 0.0013 - mape: 8.2762 - val_loss: 5.1503e-04 - val_mape: 7.0853\n",
      "Epoch 74/150\n",
      "7/7 [==============================] - 0s 39ms/step - loss: 9.3222e-04 - mape: 7.1229 - val_loss: 0.0016 - val_mape: 12.3271\n",
      "Epoch 75/150\n",
      "7/7 [==============================] - 0s 39ms/step - loss: 0.0011 - mape: 8.0616 - val_loss: 2.6250e-04 - val_mape: 5.0484\n",
      "Epoch 76/150\n",
      "7/7 [==============================] - 0s 36ms/step - loss: 0.0011 - mape: 7.9369 - val_loss: 6.5872e-04 - val_mape: 8.0091\n",
      "Epoch 77/150\n",
      "7/7 [==============================] - 0s 36ms/step - loss: 0.0011 - mape: 7.7933 - val_loss: 5.3371e-04 - val_mape: 7.2094\n",
      "Epoch 78/150\n",
      "7/7 [==============================] - 0s 38ms/step - loss: 0.0011 - mape: 7.5783 - val_loss: 3.2583e-04 - val_mape: 5.6323\n",
      "Epoch 79/150\n",
      "7/7 [==============================] - 0s 38ms/step - loss: 0.0014 - mape: 9.0314 - val_loss: 4.0159e-04 - val_mape: 6.2615\n",
      "Epoch 80/150\n",
      "7/7 [==============================] - 0s 36ms/step - loss: 9.5296e-04 - mape: 7.6674 - val_loss: 3.1956e-04 - val_mape: 5.5850\n",
      "Epoch 81/150\n",
      "7/7 [==============================] - 0s 37ms/step - loss: 0.0011 - mape: 7.8178 - val_loss: 6.2093e-04 - val_mape: 7.7862\n",
      "Epoch 82/150\n",
      "7/7 [==============================] - 0s 38ms/step - loss: 0.0011 - mape: 8.0674 - val_loss: 3.1407e-04 - val_mape: 5.5376\n",
      "Epoch 83/150\n",
      "7/7 [==============================] - 0s 38ms/step - loss: 0.0011 - mape: 7.5834 - val_loss: 3.7223e-04 - val_mape: 6.0124\n",
      "Epoch 84/150\n",
      "7/7 [==============================] - 0s 35ms/step - loss: 0.0010 - mape: 7.7251 - val_loss: 6.5798e-04 - val_mape: 8.0052\n",
      "Epoch 85/150\n",
      "7/7 [==============================] - 0s 41ms/step - loss: 0.0011 - mape: 7.8875 - val_loss: 3.5775e-04 - val_mape: 5.9015\n",
      "Epoch 86/150\n",
      "7/7 [==============================] - 0s 37ms/step - loss: 8.5840e-04 - mape: 6.9684 - val_loss: 5.5537e-04 - val_mape: 7.3593\n",
      "Epoch 87/150\n",
      "7/7 [==============================] - 0s 36ms/step - loss: 0.0011 - mape: 7.5464 - val_loss: 0.0014 - val_mape: 11.8592\n",
      "Epoch 88/150\n",
      "7/7 [==============================] - 0s 37ms/step - loss: 9.5681e-04 - mape: 7.1802 - val_loss: 4.6072e-04 - val_mape: 6.6970\n",
      "Epoch 89/150\n",
      "7/7 [==============================] - 0s 38ms/step - loss: 0.0010 - mape: 7.6808 - val_loss: 0.0013 - val_mape: 11.4003\n",
      "Epoch 90/150\n",
      "7/7 [==============================] - 0s 38ms/step - loss: 8.3031e-04 - mape: 7.0086 - val_loss: 4.3674e-04 - val_mape: 6.5289\n",
      "Epoch 91/150\n",
      "7/7 [==============================] - 0s 37ms/step - loss: 8.9201e-04 - mape: 7.2071 - val_loss: 0.0014 - val_mape: 11.7657\n",
      "Epoch 92/150\n",
      "7/7 [==============================] - 0s 39ms/step - loss: 0.0012 - mape: 8.1719 - val_loss: 3.4434e-04 - val_mape: 5.7982\n",
      "Epoch 93/150\n",
      "7/7 [==============================] - 0s 42ms/step - loss: 8.7049e-04 - mape: 7.2053 - val_loss: 7.2463e-04 - val_mape: 8.4116\n",
      "Epoch 94/150\n",
      "7/7 [==============================] - 0s 42ms/step - loss: 0.0010 - mape: 7.1927 - val_loss: 3.6228e-04 - val_mape: 5.9464\n",
      "Epoch 95/150\n",
      "7/7 [==============================] - 0s 37ms/step - loss: 9.6192e-04 - mape: 7.3996 - val_loss: 2.2135e-04 - val_mape: 4.6460\n",
      "Epoch 96/150\n",
      "7/7 [==============================] - 0s 38ms/step - loss: 9.9669e-04 - mape: 7.5199 - val_loss: 4.4416e-04 - val_mape: 6.5841\n",
      "Epoch 97/150\n",
      "7/7 [==============================] - 0s 39ms/step - loss: 9.2490e-04 - mape: 7.1052 - val_loss: 6.3294e-04 - val_mape: 7.8605\n",
      "Epoch 98/150\n",
      "7/7 [==============================] - 0s 37ms/step - loss: 0.0012 - mape: 7.5252 - val_loss: 4.1983e-04 - val_mape: 6.3960\n",
      "Epoch 99/150\n",
      "7/7 [==============================] - 0s 38ms/step - loss: 9.0481e-04 - mape: 7.5079 - val_loss: 8.1536e-04 - val_mape: 8.9195\n",
      "Epoch 100/150\n",
      "7/7 [==============================] - 0s 36ms/step - loss: 8.2264e-04 - mape: 6.7814 - val_loss: 8.3889e-04 - val_mape: 9.0470\n",
      "Epoch 101/150\n",
      "7/7 [==============================] - 0s 38ms/step - loss: 0.0010 - mape: 7.5845 - val_loss: 5.6812e-04 - val_mape: 7.4455\n",
      "Epoch 102/150\n",
      "7/7 [==============================] - 0s 37ms/step - loss: 8.6382e-04 - mape: 7.0832 - val_loss: 8.0991e-04 - val_mape: 8.8912\n",
      "Epoch 103/150\n",
      "7/7 [==============================] - 0s 38ms/step - loss: 9.0237e-04 - mape: 7.0436 - val_loss: 7.5903e-04 - val_mape: 8.6070\n",
      "Epoch 104/150\n",
      "7/7 [==============================] - 0s 37ms/step - loss: 9.8868e-04 - mape: 7.2725 - val_loss: 7.8597e-04 - val_mape: 8.7587\n",
      "Epoch 105/150\n",
      "7/7 [==============================] - 0s 38ms/step - loss: 7.8505e-04 - mape: 6.4605 - val_loss: 6.4671e-04 - val_mape: 7.9436\n",
      "Epoch 106/150\n",
      "7/7 [==============================] - 0s 35ms/step - loss: 7.3921e-04 - mape: 6.3314 - val_loss: 3.8159e-04 - val_mape: 6.0955\n",
      "Epoch 107/150\n",
      "7/7 [==============================] - 0s 40ms/step - loss: 8.0850e-04 - mape: 6.4382 - val_loss: 0.0010 - val_mape: 10.0251\n",
      "Epoch 108/150\n",
      "7/7 [==============================] - 0s 36ms/step - loss: 8.8091e-04 - mape: 7.0863 - val_loss: 8.1345e-04 - val_mape: 8.9092\n",
      "Epoch 109/150\n",
      "7/7 [==============================] - 0s 37ms/step - loss: 6.7129e-04 - mape: 6.3450 - val_loss: 7.8133e-04 - val_mape: 8.7334\n",
      "Epoch 110/150\n",
      "7/7 [==============================] - 0s 36ms/step - loss: 8.8337e-04 - mape: 7.1223 - val_loss: 9.4439e-04 - val_mape: 9.6033\n",
      "Epoch 111/150\n",
      "7/7 [==============================] - 0s 38ms/step - loss: 8.3338e-04 - mape: 6.9114 - val_loss: 0.0011 - val_mape: 10.1958\n",
      "Epoch 1/150\n",
      "7/7 [==============================] - 0s 42ms/step - loss: 6.4356e-04 - mape: 6.0326 - val_loss: 7.0162e-04 - val_mape: 8.2776\n",
      "Epoch 2/150\n",
      "7/7 [==============================] - 0s 37ms/step - loss: 8.5192e-04 - mape: 6.3650 - val_loss: 0.0016 - val_mape: 12.4885\n",
      "Epoch 3/150\n",
      "7/7 [==============================] - 0s 37ms/step - loss: 8.9611e-04 - mape: 7.3603 - val_loss: 6.0437e-04 - val_mape: 7.6825\n",
      "Epoch 4/150\n",
      "7/7 [==============================] - 0s 36ms/step - loss: 6.2016e-04 - mape: 6.0106 - val_loss: 7.8333e-04 - val_mape: 8.7463\n",
      "Epoch 5/150\n",
      "7/7 [==============================] - 0s 38ms/step - loss: 8.1200e-04 - mape: 6.9308 - val_loss: 6.2726e-04 - val_mape: 7.8266\n",
      "Epoch 6/150\n",
      "7/7 [==============================] - 0s 36ms/step - loss: 5.9638e-04 - mape: 5.7950 - val_loss: 8.0262e-04 - val_mape: 8.8533\n",
      "Epoch 7/150\n",
      "7/7 [==============================] - 0s 38ms/step - loss: 5.7668e-04 - mape: 5.7483 - val_loss: 6.2255e-04 - val_mape: 7.7972\n",
      "Epoch 8/150\n",
      "7/7 [==============================] - 0s 35ms/step - loss: 8.1432e-04 - mape: 6.8328 - val_loss: 8.2806e-04 - val_mape: 8.9925\n",
      "Epoch 9/150\n",
      "7/7 [==============================] - 0s 37ms/step - loss: 6.8285e-04 - mape: 6.4986 - val_loss: 5.3265e-04 - val_mape: 7.2122\n",
      "Epoch 10/150\n",
      "7/7 [==============================] - 0s 35ms/step - loss: 8.4310e-04 - mape: 6.6931 - val_loss: 5.1616e-04 - val_mape: 7.0997\n",
      "Epoch 11/150\n",
      "7/7 [==============================] - 0s 37ms/step - loss: 8.6028e-04 - mape: 7.0927 - val_loss: 6.7508e-04 - val_mape: 8.1195\n",
      "Epoch 12/150\n",
      "7/7 [==============================] - 0s 76ms/step - loss: 9.3442e-04 - mape: 7.2808 - val_loss: 5.7383e-04 - val_mape: 7.4859\n",
      "Epoch 13/150\n",
      "7/7 [==============================] - 0s 47ms/step - loss: 8.3553e-04 - mape: 6.7165 - val_loss: 8.4919e-04 - val_mape: 9.1065\n",
      "Epoch 14/150\n",
      "7/7 [==============================] - 0s 37ms/step - loss: 9.3197e-04 - mape: 7.1117 - val_loss: 5.0909e-04 - val_mape: 7.0509\n",
      "Epoch 15/150\n",
      "7/7 [==============================] - 1s 80ms/step - loss: 7.2265e-04 - mape: 6.4946 - val_loss: 7.4736e-04 - val_mape: 8.5431\n",
      "Epoch 16/150\n",
      "7/7 [==============================] - 0s 42ms/step - loss: 7.8775e-04 - mape: 6.3157 - val_loss: 2.9511e-04 - val_mape: 5.3683\n",
      "Epoch 17/150\n",
      "7/7 [==============================] - 0s 36ms/step - loss: 5.4408e-04 - mape: 5.5934 - val_loss: 0.0011 - val_mape: 10.2477\n",
      "Epoch 18/150\n",
      "7/7 [==============================] - 0s 77ms/step - loss: 7.6476e-04 - mape: 6.6168 - val_loss: 2.7258e-04 - val_mape: 5.1593\n",
      "Epoch 19/150\n",
      "7/7 [==============================] - 0s 41ms/step - loss: 6.3098e-04 - mape: 6.2667 - val_loss: 0.0011 - val_mape: 10.4398\n",
      "Epoch 20/150\n",
      "7/7 [==============================] - 0s 36ms/step - loss: 8.2350e-04 - mape: 6.6034 - val_loss: 4.9080e-04 - val_mape: 6.9227\n",
      "Epoch 21/150\n",
      "7/7 [==============================] - 0s 38ms/step - loss: 6.5877e-04 - mape: 6.0129 - val_loss: 7.3213e-04 - val_mape: 8.4553\n",
      "Epoch 22/150\n",
      "7/7 [==============================] - 0s 36ms/step - loss: 6.2934e-04 - mape: 5.8648 - val_loss: 0.0011 - val_mape: 10.3720\n",
      "Epoch 23/150\n",
      "7/7 [==============================] - 0s 40ms/step - loss: 7.6069e-04 - mape: 6.5905 - val_loss: 8.1248e-04 - val_mape: 8.9074\n",
      "Epoch 24/150\n",
      "7/7 [==============================] - 0s 37ms/step - loss: 7.4024e-04 - mape: 6.1292 - val_loss: 5.0902e-04 - val_mape: 7.0504\n",
      "Epoch 25/150\n",
      "7/7 [==============================] - 0s 36ms/step - loss: 7.6315e-04 - mape: 5.8145 - val_loss: 0.0010 - val_mape: 10.0597\n",
      "Epoch 26/150\n",
      "7/7 [==============================] - 0s 38ms/step - loss: 6.6840e-04 - mape: 6.0695 - val_loss: 3.1656e-04 - val_mape: 5.5583\n",
      "Epoch 27/150\n",
      "7/7 [==============================] - 0s 38ms/step - loss: 6.3728e-04 - mape: 5.4923 - val_loss: 6.9815e-04 - val_mape: 8.2550\n",
      "Epoch 28/150\n",
      "7/7 [==============================] - 0s 36ms/step - loss: 6.9417e-04 - mape: 5.9458 - val_loss: 3.4237e-04 - val_mape: 5.7752\n",
      "Epoch 29/150\n",
      "7/7 [==============================] - 0s 35ms/step - loss: 5.5146e-04 - mape: 5.6049 - val_loss: 5.2752e-04 - val_mape: 7.1769\n",
      "Epoch 30/150\n",
      "7/7 [==============================] - 0s 39ms/step - loss: 6.7984e-04 - mape: 5.5722 - val_loss: 4.3972e-04 - val_mape: 6.5527\n",
      "Epoch 31/150\n",
      "7/7 [==============================] - 0s 39ms/step - loss: 5.4156e-04 - mape: 5.3185 - val_loss: 3.6502e-04 - val_mape: 5.9703\n",
      "Epoch 32/150\n",
      "7/7 [==============================] - 0s 36ms/step - loss: 6.7454e-04 - mape: 6.0096 - val_loss: 7.6780e-04 - val_mape: 8.6590\n",
      "Epoch 33/150\n",
      "7/7 [==============================] - 0s 36ms/step - loss: 5.5049e-04 - mape: 5.3918 - val_loss: 3.5027e-04 - val_mape: 5.8483\n",
      "Epoch 34/150\n",
      "7/7 [==============================] - 0s 37ms/step - loss: 5.1690e-04 - mape: 5.7749 - val_loss: 4.4175e-04 - val_mape: 6.5679\n",
      "Epoch 35/150\n",
      "7/7 [==============================] - 0s 38ms/step - loss: 4.6326e-04 - mape: 5.3229 - val_loss: 4.3035e-04 - val_mape: 6.4826\n",
      "Epoch 36/150\n",
      "7/7 [==============================] - 0s 37ms/step - loss: 6.4912e-04 - mape: 5.7133 - val_loss: 2.0533e-04 - val_mape: 4.4770\n",
      "Epoch 37/150\n",
      "7/7 [==============================] - 0s 37ms/step - loss: 5.1157e-04 - mape: 5.3892 - val_loss: 3.2585e-04 - val_mape: 5.6399\n",
      "Epoch 38/150\n",
      "7/7 [==============================] - 0s 37ms/step - loss: 5.2627e-04 - mape: 5.2776 - val_loss: 2.6365e-04 - val_mape: 5.0724\n",
      "Epoch 39/150\n",
      "7/7 [==============================] - 0s 38ms/step - loss: 5.5969e-04 - mape: 5.4232 - val_loss: 4.2827e-04 - val_mape: 6.4662\n",
      "Epoch 40/150\n",
      "7/7 [==============================] - 0s 36ms/step - loss: 7.2305e-04 - mape: 5.4290 - val_loss: 4.2787e-04 - val_mape: 6.4634\n",
      "Epoch 41/150\n",
      "7/7 [==============================] - 0s 36ms/step - loss: 4.5593e-04 - mape: 5.2276 - val_loss: 2.5876e-04 - val_mape: 5.0262\n",
      "Epoch 42/150\n",
      "7/7 [==============================] - 0s 37ms/step - loss: 5.2693e-04 - mape: 5.4271 - val_loss: 4.0526e-04 - val_mape: 6.2906\n",
      "Epoch 43/150\n",
      "7/7 [==============================] - 0s 37ms/step - loss: 4.6623e-04 - mape: 5.3127 - val_loss: 1.5187e-04 - val_mape: 3.8501\n",
      "Epoch 44/150\n",
      "7/7 [==============================] - 0s 37ms/step - loss: 4.9085e-04 - mape: 5.3843 - val_loss: 8.7061e-04 - val_mape: 9.2204\n",
      "Epoch 45/150\n",
      "7/7 [==============================] - 0s 35ms/step - loss: 6.1914e-04 - mape: 6.0104 - val_loss: 2.1056e-04 - val_mape: 4.5331\n",
      "Epoch 46/150\n",
      "7/7 [==============================] - 0s 36ms/step - loss: 4.6622e-04 - mape: 5.0256 - val_loss: 2.5784e-04 - val_mape: 5.0169\n",
      "Epoch 47/150\n",
      "7/7 [==============================] - 0s 36ms/step - loss: 5.0021e-04 - mape: 5.3105 - val_loss: 4.2747e-04 - val_mape: 6.4605\n",
      "Epoch 48/150\n",
      "7/7 [==============================] - 0s 37ms/step - loss: 4.1933e-04 - mape: 4.6758 - val_loss: 9.3199e-05 - val_mape: 3.0166\n",
      "Epoch 49/150\n",
      "7/7 [==============================] - 0s 37ms/step - loss: 5.2587e-04 - mape: 5.1209 - val_loss: 5.9697e-04 - val_mape: 7.6347\n",
      "Epoch 50/150\n",
      "7/7 [==============================] - 0s 38ms/step - loss: 5.3481e-04 - mape: 5.2619 - val_loss: 5.3537e-04 - val_mape: 7.2302\n",
      "Epoch 51/150\n",
      "7/7 [==============================] - 0s 37ms/step - loss: 4.2215e-04 - mape: 4.9435 - val_loss: 2.4597e-04 - val_mape: 4.9005\n",
      "Epoch 52/150\n",
      "7/7 [==============================] - 0s 36ms/step - loss: 4.3234e-04 - mape: 4.9634 - val_loss: 3.5952e-04 - val_mape: 5.9251\n",
      "Epoch 53/150\n",
      "7/7 [==============================] - 0s 37ms/step - loss: 4.6879e-04 - mape: 5.0056 - val_loss: 1.4053e-04 - val_mape: 3.7034\n",
      "Epoch 54/150\n",
      "7/7 [==============================] - 0s 38ms/step - loss: 5.2858e-04 - mape: 5.2625 - val_loss: 2.7759e-04 - val_mape: 5.2057\n",
      "Epoch 55/150\n",
      "7/7 [==============================] - 0s 36ms/step - loss: 4.8780e-04 - mape: 5.1187 - val_loss: 3.3194e-04 - val_mape: 5.6934\n",
      "Epoch 56/150\n",
      "7/7 [==============================] - 0s 36ms/step - loss: 4.6896e-04 - mape: 4.8094 - val_loss: 1.8086e-04 - val_mape: 4.2024\n",
      "Epoch 57/150\n",
      "7/7 [==============================] - 0s 37ms/step - loss: 3.5189e-04 - mape: 4.3483 - val_loss: 3.8100e-04 - val_mape: 6.0985\n",
      "Epoch 58/150\n",
      "7/7 [==============================] - 0s 37ms/step - loss: 4.5475e-04 - mape: 4.7567 - val_loss: 4.0089e-04 - val_mape: 6.2484\n",
      "Epoch 59/150\n",
      "7/7 [==============================] - 0s 35ms/step - loss: 5.0356e-04 - mape: 5.2532 - val_loss: 3.9663e-04 - val_mape: 6.2142\n",
      "Epoch 60/150\n",
      "7/7 [==============================] - 0s 37ms/step - loss: 4.5696e-04 - mape: 4.8213 - val_loss: 1.9921e-04 - val_mape: 4.3981\n",
      "Epoch 61/150\n",
      "7/7 [==============================] - 0s 36ms/step - loss: 5.0210e-04 - mape: 5.1213 - val_loss: 7.1034e-04 - val_mape: 8.3207\n",
      "Epoch 62/150\n",
      "7/7 [==============================] - 0s 38ms/step - loss: 4.6133e-04 - mape: 4.6988 - val_loss: 1.7353e-04 - val_mape: 4.1066\n",
      "Epoch 63/150\n",
      "7/7 [==============================] - 0s 39ms/step - loss: 3.9421e-04 - mape: 4.7569 - val_loss: 4.1524e-04 - val_mape: 6.3634\n",
      "Epoch 64/150\n",
      "7/7 [==============================] - 0s 37ms/step - loss: 3.8907e-04 - mape: 4.7487 - val_loss: 2.5702e-04 - val_mape: 5.0033\n",
      "Epoch 65/150\n",
      "7/7 [==============================] - 0s 37ms/step - loss: 4.9947e-04 - mape: 4.9096 - val_loss: 2.4796e-04 - val_mape: 4.9208\n",
      "Epoch 66/150\n",
      "7/7 [==============================] - 0s 38ms/step - loss: 5.7081e-04 - mape: 5.1199 - val_loss: 7.6978e-04 - val_mape: 8.6701\n",
      "Epoch 67/150\n",
      "7/7 [==============================] - 0s 37ms/step - loss: 4.2463e-04 - mape: 4.9530 - val_loss: 1.3035e-04 - val_mape: 3.5677\n",
      "Epoch 68/150\n",
      "7/7 [==============================] - 0s 36ms/step - loss: 4.2417e-04 - mape: 5.0086 - val_loss: 3.2789e-04 - val_mape: 5.6586\n",
      "Epoch 69/150\n",
      "7/7 [==============================] - 0s 37ms/step - loss: 4.8152e-04 - mape: 5.4469 - val_loss: 2.1931e-04 - val_mape: 4.6278\n",
      "Epoch 70/150\n",
      "7/7 [==============================] - 0s 38ms/step - loss: 5.4709e-04 - mape: 5.5461 - val_loss: 4.9498e-05 - val_mape: 2.1984\n",
      "Epoch 71/150\n",
      "7/7 [==============================] - 0s 36ms/step - loss: 3.6561e-04 - mape: 4.6298 - val_loss: 4.8161e-04 - val_mape: 6.8578\n",
      "Epoch 72/150\n",
      "7/7 [==============================] - 0s 38ms/step - loss: 4.3894e-04 - mape: 4.9861 - val_loss: 1.6492e-04 - val_mape: 4.0130\n",
      "Epoch 73/150\n",
      "7/7 [==============================] - 0s 38ms/step - loss: 3.8608e-04 - mape: 4.4883 - val_loss: 4.3906e-04 - val_mape: 6.5479\n",
      "Epoch 74/150\n",
      "7/7 [==============================] - 0s 39ms/step - loss: 3.2006e-04 - mape: 4.1251 - val_loss: 1.9808e-04 - val_mape: 4.3981\n",
      "Epoch 75/150\n",
      "7/7 [==============================] - 0s 38ms/step - loss: 4.3219e-04 - mape: 4.8332 - val_loss: 5.0847e-04 - val_mape: 7.0465\n",
      "Epoch 76/150\n",
      "7/7 [==============================] - 0s 39ms/step - loss: 3.0075e-04 - mape: 4.2173 - val_loss: 1.0473e-04 - val_mape: 3.1976\n",
      "Epoch 77/150\n",
      "7/7 [==============================] - 0s 38ms/step - loss: 3.9067e-04 - mape: 4.5603 - val_loss: 6.0071e-04 - val_mape: 7.6590\n",
      "Epoch 78/150\n",
      "7/7 [==============================] - 0s 39ms/step - loss: 4.6099e-04 - mape: 4.6688 - val_loss: 1.8527e-04 - val_mape: 4.2530\n",
      "Epoch 79/150\n",
      "7/7 [==============================] - 0s 37ms/step - loss: 2.4966e-04 - mape: 3.7141 - val_loss: 2.2134e-04 - val_mape: 4.6489\n",
      "Epoch 80/150\n",
      "7/7 [==============================] - 0s 38ms/step - loss: 3.9017e-04 - mape: 4.4581 - val_loss: 1.6638e-04 - val_mape: 4.0306\n",
      "Epoch 81/150\n",
      "7/7 [==============================] - 0s 38ms/step - loss: 3.5397e-04 - mape: 4.3090 - val_loss: 1.8774e-04 - val_mape: 4.2817\n",
      "Epoch 82/150\n",
      "7/7 [==============================] - 0s 37ms/step - loss: 3.2116e-04 - mape: 4.1919 - val_loss: 3.7107e-04 - val_mape: 6.0194\n",
      "Epoch 83/150\n",
      "7/7 [==============================] - 0s 38ms/step - loss: 3.9443e-04 - mape: 4.4536 - val_loss: 1.8358e-05 - val_mape: 1.3381\n",
      "Epoch 84/150\n",
      "7/7 [==============================] - 0s 40ms/step - loss: 4.3183e-04 - mape: 5.0008 - val_loss: 6.1784e-04 - val_mape: 7.7671\n",
      "Epoch 85/150\n",
      "7/7 [==============================] - 0s 38ms/step - loss: 4.4391e-04 - mape: 5.1785 - val_loss: 1.7501e-04 - val_mape: 4.1337\n",
      "Epoch 86/150\n",
      "7/7 [==============================] - 0s 37ms/step - loss: 3.8759e-04 - mape: 4.5103 - val_loss: 2.3948e-04 - val_mape: 4.8353\n",
      "Epoch 87/150\n",
      "7/7 [==============================] - 0s 40ms/step - loss: 3.9944e-04 - mape: 4.3778 - val_loss: 2.8380e-04 - val_mape: 5.2629\n",
      "Epoch 88/150\n",
      "7/7 [==============================] - 0s 38ms/step - loss: 3.0235e-04 - mape: 4.1354 - val_loss: 1.0653e-04 - val_mape: 3.2210\n",
      "Epoch 89/150\n",
      "7/7 [==============================] - 0s 39ms/step - loss: 2.7282e-04 - mape: 4.0163 - val_loss: 2.9779e-04 - val_mape: 5.3879\n",
      "Epoch 90/150\n",
      "7/7 [==============================] - 0s 39ms/step - loss: 3.1392e-04 - mape: 4.3231 - val_loss: 2.1011e-04 - val_mape: 4.5267\n",
      "Epoch 91/150\n",
      "7/7 [==============================] - 0s 39ms/step - loss: 4.4655e-04 - mape: 4.3313 - val_loss: 2.8674e-04 - val_mape: 5.2909\n",
      "Epoch 92/150\n",
      "7/7 [==============================] - 0s 38ms/step - loss: 3.1686e-04 - mape: 4.2485 - val_loss: 1.4101e-04 - val_mape: 3.7103\n",
      "Epoch 93/150\n",
      "7/7 [==============================] - 0s 40ms/step - loss: 3.0833e-04 - mape: 4.0803 - val_loss: 2.4574e-04 - val_mape: 4.8986\n",
      "Epoch 94/150\n",
      "7/7 [==============================] - 0s 37ms/step - loss: 3.2746e-04 - mape: 4.1935 - val_loss: 1.4597e-04 - val_mape: 3.7751\n",
      "Epoch 95/150\n",
      "7/7 [==============================] - 0s 40ms/step - loss: 3.6354e-04 - mape: 4.3506 - val_loss: 7.6661e-05 - val_mape: 2.7351\n",
      "Epoch 96/150\n",
      "7/7 [==============================] - 0s 37ms/step - loss: 3.9417e-04 - mape: 4.5255 - val_loss: 3.9832e-04 - val_mape: 6.2360\n",
      "Epoch 97/150\n",
      "7/7 [==============================] - 0s 41ms/step - loss: 3.2129e-04 - mape: 4.1790 - val_loss: 1.2543e-04 - val_mape: 3.4987\n",
      "Epoch 98/150\n",
      "7/7 [==============================] - 0s 37ms/step - loss: 3.8223e-04 - mape: 4.5165 - val_loss: 1.8321e-04 - val_mape: 4.2287\n",
      "Epoch 99/150\n",
      "7/7 [==============================] - 0s 38ms/step - loss: 3.0370e-04 - mape: 4.2370 - val_loss: 1.7597e-04 - val_mape: 4.1445\n",
      "Epoch 100/150\n",
      "7/7 [==============================] - 0s 38ms/step - loss: 3.9698e-04 - mape: 4.6663 - val_loss: 2.5001e-04 - val_mape: 4.9405\n",
      "Epoch 101/150\n",
      "7/7 [==============================] - 0s 37ms/step - loss: 3.5611e-04 - mape: 4.0547 - val_loss: 2.0453e-04 - val_mape: 4.4684\n",
      "Epoch 102/150\n",
      "7/7 [==============================] - 0s 38ms/step - loss: 2.5912e-04 - mape: 3.6335 - val_loss: 2.7371e-04 - val_mape: 5.1692\n",
      "Epoch 103/150\n",
      "7/7 [==============================] - 0s 37ms/step - loss: 2.3198e-04 - mape: 3.7026 - val_loss: 2.4715e-04 - val_mape: 4.9119\n",
      "Epoch 104/150\n",
      "7/7 [==============================] - 0s 38ms/step - loss: 3.6845e-04 - mape: 4.4930 - val_loss: 1.9728e-04 - val_mape: 4.3888\n",
      "Epoch 105/150\n",
      "7/7 [==============================] - 0s 39ms/step - loss: 3.3136e-04 - mape: 4.1493 - val_loss: 5.6900e-05 - val_mape: 2.3571\n",
      "Epoch 106/150\n",
      "7/7 [==============================] - 0s 38ms/step - loss: 2.6122e-04 - mape: 3.9653 - val_loss: 2.9433e-04 - val_mape: 5.3613\n",
      "Epoch 107/150\n",
      "7/7 [==============================] - 0s 39ms/step - loss: 3.4601e-04 - mape: 4.2968 - val_loss: 1.2027e-05 - val_mape: 1.0836\n",
      "Epoch 108/150\n",
      "7/7 [==============================] - 0s 39ms/step - loss: 2.7119e-04 - mape: 3.9559 - val_loss: 2.3075e-04 - val_mape: 4.7470\n",
      "Epoch 109/150\n",
      "7/7 [==============================] - 0s 38ms/step - loss: 2.3339e-04 - mape: 3.5331 - val_loss: 2.5344e-04 - val_mape: 4.9749\n",
      "Epoch 110/150\n",
      "7/7 [==============================] - 0s 38ms/step - loss: 3.4803e-04 - mape: 4.4854 - val_loss: 1.3684e-04 - val_mape: 3.6556\n",
      "Epoch 111/150\n",
      "7/7 [==============================] - 0s 38ms/step - loss: 3.1045e-04 - mape: 3.9521 - val_loss: 1.4455e-04 - val_mape: 3.7571\n",
      "Epoch 112/150\n",
      "7/7 [==============================] - 0s 40ms/step - loss: 2.5534e-04 - mape: 3.6600 - val_loss: 2.9586e-04 - val_mape: 5.3751\n",
      "Epoch 113/150\n",
      "7/7 [==============================] - 0s 39ms/step - loss: 3.1001e-04 - mape: 3.9728 - val_loss: 1.0208e-04 - val_mape: 3.1574\n",
      "Epoch 114/150\n",
      "7/7 [==============================] - 0s 40ms/step - loss: 2.8951e-04 - mape: 3.9175 - val_loss: 2.0565e-04 - val_mape: 4.4814\n",
      "Epoch 115/150\n",
      "7/7 [==============================] - 0s 40ms/step - loss: 2.4449e-04 - mape: 3.7822 - val_loss: 2.1546e-04 - val_mape: 4.5871\n",
      "Epoch 116/150\n",
      "7/7 [==============================] - 0s 38ms/step - loss: 2.4878e-04 - mape: 3.6201 - val_loss: 1.8868e-04 - val_mape: 4.2925\n",
      "Epoch 117/150\n",
      "7/7 [==============================] - 0s 37ms/step - loss: 2.4925e-04 - mape: 3.7126 - val_loss: 1.8620e-04 - val_mape: 4.2642\n",
      "Epoch 118/150\n",
      "7/7 [==============================] - 0s 38ms/step - loss: 2.6984e-04 - mape: 3.8360 - val_loss: 1.4339e-04 - val_mape: 3.7420\n",
      "Epoch 119/150\n",
      "7/7 [==============================] - 0s 39ms/step - loss: 3.2527e-04 - mape: 3.9258 - val_loss: 1.4260e-04 - val_mape: 3.7316\n",
      "Epoch 120/150\n",
      "7/7 [==============================] - 0s 37ms/step - loss: 3.3032e-04 - mape: 4.1294 - val_loss: 1.8177e-04 - val_mape: 4.2066\n",
      "Epoch 121/150\n",
      "7/7 [==============================] - 0s 37ms/step - loss: 1.9731e-04 - mape: 3.3678 - val_loss: 2.3685e-04 - val_mape: 4.8040\n",
      "Epoch 122/150\n",
      "7/7 [==============================] - 0s 38ms/step - loss: 2.5300e-04 - mape: 3.4942 - val_loss: 1.4765e-04 - val_mape: 3.7908\n",
      "Epoch 123/150\n",
      "7/7 [==============================] - 0s 38ms/step - loss: 2.4715e-04 - mape: 3.8249 - val_loss: 1.7157e-04 - val_mape: 4.0875\n",
      "Epoch 124/150\n",
      "7/7 [==============================] - 0s 38ms/step - loss: 3.0681e-04 - mape: 4.0674 - val_loss: 4.3472e-04 - val_mape: 6.5126\n",
      "Epoch 125/150\n",
      "7/7 [==============================] - 0s 37ms/step - loss: 3.1970e-04 - mape: 4.1194 - val_loss: 8.2795e-05 - val_mape: 2.8385\n",
      "Epoch 126/150\n",
      "7/7 [==============================] - 0s 36ms/step - loss: 2.8572e-04 - mape: 4.0278 - val_loss: 1.4379e-05 - val_mape: 1.1700\n",
      "Epoch 127/150\n",
      "7/7 [==============================] - 0s 41ms/step - loss: 3.9215e-04 - mape: 4.5662 - val_loss: 7.6105e-04 - val_mape: 8.6187\n",
      "Epoch 128/150\n",
      "7/7 [==============================] - 0s 37ms/step - loss: 4.2881e-04 - mape: 4.9995 - val_loss: 5.7751e-07 - val_mape: 0.2248\n",
      "Epoch 129/150\n",
      "7/7 [==============================] - 0s 38ms/step - loss: 4.0158e-04 - mape: 4.9943 - val_loss: 3.5902e-04 - val_mape: 5.9193\n",
      "Epoch 130/150\n",
      "7/7 [==============================] - 0s 38ms/step - loss: 2.5183e-04 - mape: 3.8266 - val_loss: 4.2191e-04 - val_mape: 6.4173\n",
      "Epoch 131/150\n",
      "7/7 [==============================] - 0s 42ms/step - loss: 2.6760e-04 - mape: 4.1341 - val_loss: 3.0996e-05 - val_mape: 1.7358\n",
      "Epoch 132/150\n",
      "7/7 [==============================] - 0s 39ms/step - loss: 2.7710e-04 - mape: 4.0476 - val_loss: 5.1802e-04 - val_mape: 7.1107\n",
      "Epoch 133/150\n",
      "7/7 [==============================] - 0s 37ms/step - loss: 2.2825e-04 - mape: 3.7286 - val_loss: 1.9618e-04 - val_mape: 4.3737\n",
      "Epoch 134/150\n",
      "7/7 [==============================] - 0s 38ms/step - loss: 3.2105e-04 - mape: 3.5878 - val_loss: 1.3071e-04 - val_mape: 3.5699\n",
      "Epoch 135/150\n",
      "7/7 [==============================] - 0s 39ms/step - loss: 1.9144e-04 - mape: 3.2479 - val_loss: 2.9834e-04 - val_mape: 5.3963\n",
      "Epoch 136/150\n",
      "7/7 [==============================] - 0s 38ms/step - loss: 2.3429e-04 - mape: 3.4972 - val_loss: 3.6091e-04 - val_mape: 5.9361\n",
      "Epoch 137/150\n",
      "7/7 [==============================] - 0s 38ms/step - loss: 2.6574e-04 - mape: 3.8107 - val_loss: 6.6197e-05 - val_mape: 2.5418\n",
      "Epoch 138/150\n",
      "7/7 [==============================] - 0s 39ms/step - loss: 1.8173e-04 - mape: 3.1373 - val_loss: 2.2064e-04 - val_mape: 4.6409\n",
      "Epoch 139/150\n",
      "7/7 [==============================] - 0s 37ms/step - loss: 3.0466e-04 - mape: 4.0036 - val_loss: 1.3686e-04 - val_mape: 3.6540\n",
      "Epoch 140/150\n",
      "7/7 [==============================] - 0s 39ms/step - loss: 2.8521e-04 - mape: 3.9496 - val_loss: 2.4862e-04 - val_mape: 4.9255\n",
      "Epoch 141/150\n",
      "7/7 [==============================] - 0s 37ms/step - loss: 2.3397e-04 - mape: 3.6512 - val_loss: 2.5019e-04 - val_mape: 4.9395\n",
      "Epoch 142/150\n",
      "7/7 [==============================] - 0s 39ms/step - loss: 2.9137e-04 - mape: 3.8502 - val_loss: 1.2891e-05 - val_mape: 1.0937\n",
      "Epoch 143/150\n",
      "7/7 [==============================] - 0s 37ms/step - loss: 3.0302e-04 - mape: 3.9680 - val_loss: 3.0159e-04 - val_mape: 5.4164\n",
      "Epoch 144/150\n",
      "7/7 [==============================] - 0s 38ms/step - loss: 2.7289e-04 - mape: 3.8243 - val_loss: 9.1214e-05 - val_mape: 2.9639\n",
      "Epoch 145/150\n",
      "7/7 [==============================] - 0s 38ms/step - loss: 2.0721e-04 - mape: 3.2943 - val_loss: 1.0585e-04 - val_mape: 3.1965\n",
      "Epoch 146/150\n",
      "7/7 [==============================] - 0s 40ms/step - loss: 1.6499e-04 - mape: 3.1288 - val_loss: 3.8702e-04 - val_mape: 6.1371\n",
      "Epoch 147/150\n",
      "7/7 [==============================] - 0s 39ms/step - loss: 1.8880e-04 - mape: 3.3856 - val_loss: 9.2262e-05 - val_mape: 2.9854\n",
      "Epoch 148/150\n",
      "7/7 [==============================] - 0s 39ms/step - loss: 2.4820e-04 - mape: 3.7233 - val_loss: 1.8883e-04 - val_mape: 4.2833\n",
      "Epoch 149/150\n",
      "7/7 [==============================] - 0s 37ms/step - loss: 3.2767e-04 - mape: 3.8543 - val_loss: 3.1481e-04 - val_mape: 5.5382\n",
      "Epoch 150/150\n",
      "7/7 [==============================] - 0s 40ms/step - loss: 2.1718e-04 - mape: 3.5085 - val_loss: 3.4011e-04 - val_mape: 5.7567\n",
      "Epoch 1/150\n",
      "7/7 [==============================] - 0s 46ms/step - loss: 3.9012e-04 - mape: 3.7437 - val_loss: 4.7502e-05 - val_mape: 2.1130\n",
      "Epoch 2/150\n",
      "7/7 [==============================] - 0s 40ms/step - loss: 2.8651e-04 - mape: 3.8357 - val_loss: 1.9989e-04 - val_mape: 4.4032\n",
      "Epoch 3/150\n",
      "7/7 [==============================] - 0s 37ms/step - loss: 2.2166e-04 - mape: 3.5961 - val_loss: 6.9034e-05 - val_mape: 2.5871\n",
      "Epoch 4/150\n",
      "7/7 [==============================] - 0s 39ms/step - loss: 3.2470e-04 - mape: 3.7095 - val_loss: 2.1217e-04 - val_mape: 4.5514\n",
      "Epoch 5/150\n",
      "7/7 [==============================] - 0s 39ms/step - loss: 2.1016e-04 - mape: 3.4156 - val_loss: 1.7921e-04 - val_mape: 4.1832\n",
      "Epoch 6/150\n",
      "7/7 [==============================] - 0s 42ms/step - loss: 2.5634e-04 - mape: 3.6758 - val_loss: 6.1210e-05 - val_mape: 2.4446\n",
      "Epoch 7/150\n",
      "7/7 [==============================] - 0s 37ms/step - loss: 1.7537e-04 - mape: 3.2409 - val_loss: 7.0975e-05 - val_mape: 2.6324\n",
      "Epoch 8/150\n",
      "7/7 [==============================] - 0s 38ms/step - loss: 1.7913e-04 - mape: 3.1949 - val_loss: 7.0508e-05 - val_mape: 2.6235\n",
      "Epoch 9/150\n",
      "7/7 [==============================] - 0s 40ms/step - loss: 2.0171e-04 - mape: 3.2998 - val_loss: 1.0657e-04 - val_mape: 3.2256\n",
      "Epoch 10/150\n",
      "7/7 [==============================] - 0s 41ms/step - loss: 1.7520e-04 - mape: 3.1979 - val_loss: 6.4659e-05 - val_mape: 2.5128\n",
      "Epoch 11/150\n",
      "7/7 [==============================] - 0s 38ms/step - loss: 2.0459e-04 - mape: 3.4345 - val_loss: 1.5422e-04 - val_mape: 3.8808\n",
      "Epoch 12/150\n",
      "7/7 [==============================] - 0s 38ms/step - loss: 1.5677e-04 - mape: 2.9184 - val_loss: 2.5717e-04 - val_mape: 5.0114\n",
      "Epoch 13/150\n",
      "7/7 [==============================] - 0s 39ms/step - loss: 2.4230e-04 - mape: 3.7116 - val_loss: 1.1028e-05 - val_mape: 1.0377\n",
      "Epoch 14/150\n",
      "7/7 [==============================] - 0s 41ms/step - loss: 1.6611e-04 - mape: 3.1606 - val_loss: 2.3642e-05 - val_mape: 1.5194\n",
      "Epoch 15/150\n",
      "7/7 [==============================] - 0s 37ms/step - loss: 2.1539e-04 - mape: 3.4957 - val_loss: 8.2139e-05 - val_mape: 2.8322\n",
      "Epoch 16/150\n",
      "7/7 [==============================] - 0s 39ms/step - loss: 1.6832e-04 - mape: 3.0487 - val_loss: 5.4689e-06 - val_mape: 0.7307\n",
      "Epoch 17/150\n",
      "7/7 [==============================] - 0s 41ms/step - loss: 1.8598e-04 - mape: 3.1631 - val_loss: 1.5767e-04 - val_mape: 3.9239\n",
      "Epoch 18/150\n",
      "7/7 [==============================] - 0s 37ms/step - loss: 3.2400e-04 - mape: 3.8884 - val_loss: 2.7987e-04 - val_mape: 5.2279\n",
      "Epoch 19/150\n",
      "7/7 [==============================] - 0s 39ms/step - loss: 2.3774e-04 - mape: 3.4070 - val_loss: 1.1056e-04 - val_mape: 3.2858\n",
      "Epoch 20/150\n",
      "7/7 [==============================] - 0s 40ms/step - loss: 1.7708e-04 - mape: 2.9543 - val_loss: 6.8666e-05 - val_mape: 2.5891\n",
      "Epoch 21/150\n",
      "7/7 [==============================] - 0s 40ms/step - loss: 3.6555e-04 - mape: 3.6644 - val_loss: 1.1614e-04 - val_mape: 3.3674\n",
      "Epoch 22/150\n",
      "7/7 [==============================] - 0s 40ms/step - loss: 1.6800e-04 - mape: 2.9548 - val_loss: 9.0689e-05 - val_mape: 2.9756\n",
      "Epoch 23/150\n",
      "7/7 [==============================] - 0s 40ms/step - loss: 1.6730e-04 - mape: 3.1309 - val_loss: 4.4501e-05 - val_mape: 2.0841\n",
      "Epoch 24/150\n",
      "7/7 [==============================] - 0s 40ms/step - loss: 2.1667e-04 - mape: 3.3193 - val_loss: 9.6794e-05 - val_mape: 3.0741\n",
      "Epoch 25/150\n",
      "7/7 [==============================] - 0s 41ms/step - loss: 1.5808e-04 - mape: 2.9724 - val_loss: 8.7886e-05 - val_mape: 2.9294\n",
      "Epoch 26/150\n",
      "7/7 [==============================] - 0s 38ms/step - loss: 1.9157e-04 - mape: 3.2127 - val_loss: 1.2044e-04 - val_mape: 3.4294\n",
      "Epoch 27/150\n",
      "7/7 [==============================] - 0s 41ms/step - loss: 2.3919e-04 - mape: 3.2215 - val_loss: 9.7371e-05 - val_mape: 3.0836\n",
      "Epoch 28/150\n",
      "7/7 [==============================] - 0s 40ms/step - loss: 1.6653e-04 - mape: 2.9401 - val_loss: 1.9842e-05 - val_mape: 1.3919\n",
      "Epoch 29/150\n",
      "7/7 [==============================] - 0s 39ms/step - loss: 2.5938e-04 - mape: 3.5172 - val_loss: 7.9640e-05 - val_mape: 2.7887\n",
      "Epoch 30/150\n",
      "7/7 [==============================] - 0s 42ms/step - loss: 1.7138e-04 - mape: 3.0995 - val_loss: 1.8397e-04 - val_mape: 4.2385\n",
      "Epoch 31/150\n",
      "7/7 [==============================] - 0s 40ms/step - loss: 1.5613e-04 - mape: 2.9916 - val_loss: 1.5641e-04 - val_mape: 3.9080\n",
      "Epoch 32/150\n",
      "7/7 [==============================] - 0s 41ms/step - loss: 1.7027e-04 - mape: 3.1890 - val_loss: 1.3593e-05 - val_mape: 1.1512\n",
      "Epoch 33/150\n",
      "7/7 [==============================] - 0s 40ms/step - loss: 2.1380e-04 - mape: 3.2888 - val_loss: 1.1331e-04 - val_mape: 3.3263\n",
      "Epoch 34/150\n",
      "7/7 [==============================] - 0s 40ms/step - loss: 1.5989e-04 - mape: 2.9096 - val_loss: 1.9562e-04 - val_mape: 4.3706\n",
      "Epoch 35/150\n",
      "7/7 [==============================] - 0s 40ms/step - loss: 2.4370e-04 - mape: 3.5609 - val_loss: 7.7615e-05 - val_mape: 2.7530\n",
      "Epoch 36/150\n",
      "7/7 [==============================] - 0s 38ms/step - loss: 1.5637e-04 - mape: 3.0309 - val_loss: 1.4547e-04 - val_mape: 3.7690\n",
      "Epoch 37/150\n",
      "7/7 [==============================] - 0s 38ms/step - loss: 1.2052e-04 - mape: 2.6481 - val_loss: 2.5328e-05 - val_mape: 1.5718\n",
      "Epoch 38/150\n",
      "7/7 [==============================] - 0s 37ms/step - loss: 1.6098e-04 - mape: 3.1104 - val_loss: 1.0004e-04 - val_mape: 3.1234\n",
      "Epoch 39/150\n",
      "7/7 [==============================] - 0s 40ms/step - loss: 1.4277e-04 - mape: 2.7539 - val_loss: 1.0478e-04 - val_mape: 3.1959\n",
      "Epoch 40/150\n",
      "7/7 [==============================] - 0s 38ms/step - loss: 1.4793e-04 - mape: 2.8562 - val_loss: 4.3949e-05 - val_mape: 2.0677\n",
      "Epoch 41/150\n",
      "7/7 [==============================] - 0s 39ms/step - loss: 1.4925e-04 - mape: 2.9581 - val_loss: 5.7481e-05 - val_mape: 2.3675\n",
      "Epoch 42/150\n",
      "7/7 [==============================] - 0s 38ms/step - loss: 1.7138e-04 - mape: 2.8550 - val_loss: 1.2222e-04 - val_mape: 3.4539\n",
      "Epoch 43/150\n",
      "7/7 [==============================] - 0s 41ms/step - loss: 1.0275e-04 - mape: 2.4458 - val_loss: 7.4336e-05 - val_mape: 2.6924\n",
      "Epoch 44/150\n",
      "7/7 [==============================] - 0s 39ms/step - loss: 1.3603e-04 - mape: 2.8431 - val_loss: 6.6811e-05 - val_mape: 2.5507\n",
      "Epoch 45/150\n",
      "7/7 [==============================] - 0s 41ms/step - loss: 1.4169e-04 - mape: 2.9046 - val_loss: 1.2189e-04 - val_mape: 3.4469\n",
      "Epoch 46/150\n",
      "7/7 [==============================] - 0s 38ms/step - loss: 1.5870e-04 - mape: 2.8226 - val_loss: 5.0543e-05 - val_mape: 2.2176\n",
      "Epoch 47/150\n",
      "7/7 [==============================] - 0s 42ms/step - loss: 1.8271e-04 - mape: 3.0016 - val_loss: 1.7236e-04 - val_mape: 4.1001\n",
      "Epoch 48/150\n",
      "7/7 [==============================] - 0s 38ms/step - loss: 1.7086e-04 - mape: 3.0350 - val_loss: 4.2495e-05 - val_mape: 2.0176\n",
      "Epoch 49/150\n",
      "7/7 [==============================] - 0s 38ms/step - loss: 1.9557e-04 - mape: 3.3017 - val_loss: 1.3335e-04 - val_mape: 3.5997\n",
      "Epoch 50/150\n",
      "7/7 [==============================] - 0s 43ms/step - loss: 1.4260e-04 - mape: 2.7327 - val_loss: 1.3041e-04 - val_mape: 3.5643\n",
      "Epoch 51/150\n",
      "7/7 [==============================] - 0s 38ms/step - loss: 1.9342e-04 - mape: 2.9738 - val_loss: 1.4280e-04 - val_mape: 3.7294\n",
      "Epoch 52/150\n",
      "7/7 [==============================] - 0s 39ms/step - loss: 1.2155e-04 - mape: 2.6953 - val_loss: 6.7706e-05 - val_mape: 2.5627\n",
      "Epoch 53/150\n",
      "7/7 [==============================] - 0s 38ms/step - loss: 2.4492e-04 - mape: 3.0879 - val_loss: 1.2516e-04 - val_mape: 3.4947\n",
      "Epoch 54/150\n",
      "7/7 [==============================] - 0s 40ms/step - loss: 1.6121e-04 - mape: 2.8086 - val_loss: 9.5664e-05 - val_mape: 3.0552\n",
      "Epoch 55/150\n",
      "7/7 [==============================] - 0s 37ms/step - loss: 1.3964e-04 - mape: 2.7532 - val_loss: 1.1204e-04 - val_mape: 3.3047\n",
      "Epoch 56/150\n",
      "7/7 [==============================] - 0s 40ms/step - loss: 2.7219e-04 - mape: 2.9966 - val_loss: 1.1877e-04 - val_mape: 3.4037\n",
      "Epoch 57/150\n",
      "7/7 [==============================] - 0s 40ms/step - loss: 1.2634e-04 - mape: 2.6711 - val_loss: 1.4560e-04 - val_mape: 3.7702\n",
      "Epoch 58/150\n",
      "7/7 [==============================] - 0s 40ms/step - loss: 1.7420e-04 - mape: 3.0569 - val_loss: 2.4170e-05 - val_mape: 1.5359\n",
      "Epoch 59/150\n",
      "7/7 [==============================] - 0s 38ms/step - loss: 1.4010e-04 - mape: 2.9574 - val_loss: 2.0710e-04 - val_mape: 4.4971\n",
      "Epoch 60/150\n",
      "7/7 [==============================] - 0s 38ms/step - loss: 2.0936e-04 - mape: 3.1664 - val_loss: 2.0801e-04 - val_mape: 4.5066\n",
      "Epoch 61/150\n",
      "7/7 [==============================] - 0s 38ms/step - loss: 2.8049e-04 - mape: 3.6371 - val_loss: 1.5019e-04 - val_mape: 3.8284\n",
      "Epoch 62/150\n",
      "7/7 [==============================] - 0s 38ms/step - loss: 1.4700e-04 - mape: 2.9400 - val_loss: 2.5706e-05 - val_mape: 1.5828\n",
      "Epoch 63/150\n",
      "7/7 [==============================] - 0s 38ms/step - loss: 1.6585e-04 - mape: 2.9961 - val_loss: 1.7098e-04 - val_mape: 4.0857\n",
      "Epoch 64/150\n",
      "7/7 [==============================] - 0s 38ms/step - loss: 1.4814e-04 - mape: 2.8616 - val_loss: 7.0494e-05 - val_mape: 2.6218\n",
      "Epoch 65/150\n",
      "7/7 [==============================] - 0s 40ms/step - loss: 2.0293e-04 - mape: 2.7615 - val_loss: 3.5902e-05 - val_mape: 1.8683\n",
      "Epoch 66/150\n",
      "7/7 [==============================] - 0s 37ms/step - loss: 1.9776e-04 - mape: 2.9152 - val_loss: 3.7828e-04 - val_mape: 6.0776\n",
      "Epoch 67/150\n",
      "7/7 [==============================] - 0s 38ms/step - loss: 1.8798e-04 - mape: 3.3560 - val_loss: 1.3614e-04 - val_mape: 3.6462\n",
      "Epoch 68/150\n",
      "7/7 [==============================] - 0s 39ms/step - loss: 2.0543e-04 - mape: 3.4016 - val_loss: 1.3936e-06 - val_mape: 0.3689\n",
      "Epoch 69/150\n",
      "7/7 [==============================] - 0s 42ms/step - loss: 2.1939e-04 - mape: 3.5804 - val_loss: 3.7543e-05 - val_mape: 1.9148\n",
      "Epoch 70/150\n",
      "7/7 [==============================] - 0s 38ms/step - loss: 2.4077e-04 - mape: 2.9640 - val_loss: 2.1072e-04 - val_mape: 4.5363\n",
      "Epoch 71/150\n",
      "7/7 [==============================] - 0s 38ms/step - loss: 1.1439e-04 - mape: 2.5042 - val_loss: 1.4828e-04 - val_mape: 3.8054\n",
      "Epoch 72/150\n",
      "7/7 [==============================] - 0s 39ms/step - loss: 1.1906e-04 - mape: 2.7142 - val_loss: 1.7157e-05 - val_mape: 1.2944\n",
      "Epoch 73/150\n",
      "7/7 [==============================] - 0s 40ms/step - loss: 1.3269e-04 - mape: 2.7503 - val_loss: 1.8109e-04 - val_mape: 4.2053\n",
      "Epoch 74/150\n",
      "7/7 [==============================] - 0s 39ms/step - loss: 1.2648e-04 - mape: 2.6055 - val_loss: 2.0574e-04 - val_mape: 4.4824\n",
      "Epoch 75/150\n",
      "7/7 [==============================] - 0s 38ms/step - loss: 1.5247e-04 - mape: 2.8135 - val_loss: 1.4096e-04 - val_mape: 3.7102\n",
      "Epoch 76/150\n",
      "7/7 [==============================] - 0s 39ms/step - loss: 1.6498e-04 - mape: 3.1133 - val_loss: 3.9373e-05 - val_mape: 1.9608\n",
      "Epoch 77/150\n",
      "7/7 [==============================] - 0s 38ms/step - loss: 1.0414e-04 - mape: 2.5170 - val_loss: 1.0341e-04 - val_mape: 3.1777\n",
      "Epoch 78/150\n",
      "7/7 [==============================] - 0s 40ms/step - loss: 1.1119e-04 - mape: 2.3339 - val_loss: 1.1022e-04 - val_mape: 3.2808\n",
      "Epoch 79/150\n",
      "7/7 [==============================] - 0s 39ms/step - loss: 1.1774e-04 - mape: 2.5739 - val_loss: 8.2165e-05 - val_mape: 2.8326\n",
      "Epoch 80/150\n",
      "7/7 [==============================] - 0s 40ms/step - loss: 1.0119e-04 - mape: 2.3783 - val_loss: 1.7016e-04 - val_mape: 4.0764\n",
      "Epoch 81/150\n",
      "7/7 [==============================] - 0s 40ms/step - loss: 1.4912e-04 - mape: 2.6529 - val_loss: 8.0746e-05 - val_mape: 2.8079\n",
      "Epoch 82/150\n",
      "7/7 [==============================] - 0s 40ms/step - loss: 1.0922e-04 - mape: 2.3534 - val_loss: 9.0188e-05 - val_mape: 2.9673\n",
      "Epoch 83/150\n",
      "7/7 [==============================] - 0s 40ms/step - loss: 1.2981e-04 - mape: 2.5693 - val_loss: 9.8392e-05 - val_mape: 3.0995\n",
      "Epoch 84/150\n",
      "7/7 [==============================] - 0s 40ms/step - loss: 9.0125e-05 - mape: 2.2670 - val_loss: 8.2409e-05 - val_mape: 2.8358\n",
      "Epoch 85/150\n",
      "7/7 [==============================] - 0s 38ms/step - loss: 9.4338e-05 - mape: 2.3147 - val_loss: 5.2493e-05 - val_mape: 2.2622\n",
      "Epoch 86/150\n",
      "7/7 [==============================] - 0s 38ms/step - loss: 1.2096e-04 - mape: 2.5110 - val_loss: 1.4806e-04 - val_mape: 3.8021\n",
      "Epoch 87/150\n",
      "7/7 [==============================] - 0s 39ms/step - loss: 1.4911e-04 - mape: 2.6674 - val_loss: 1.1167e-04 - val_mape: 3.3019\n",
      "Epoch 88/150\n",
      "7/7 [==============================] - 0s 40ms/step - loss: 1.1751e-04 - mape: 2.3183 - val_loss: 1.0639e-04 - val_mape: 3.2232\n",
      "Epoch 89/150\n",
      "7/7 [==============================] - 0s 45ms/step - loss: 1.4222e-04 - mape: 2.6558 - val_loss: 2.2183e-05 - val_mape: 1.4710\n",
      "Epoch 90/150\n",
      "7/7 [==============================] - 0s 42ms/step - loss: 1.2791e-04 - mape: 2.6096 - val_loss: 1.5177e-04 - val_mape: 3.8497\n",
      "Epoch 91/150\n",
      "7/7 [==============================] - 0s 42ms/step - loss: 1.3719e-04 - mape: 2.7051 - val_loss: 1.1000e-04 - val_mape: 3.2768\n",
      "Epoch 92/150\n",
      "7/7 [==============================] - 0s 39ms/step - loss: 8.9998e-05 - mape: 2.3070 - val_loss: 3.1253e-05 - val_mape: 1.7447\n",
      "Epoch 93/150\n",
      "7/7 [==============================] - 0s 40ms/step - loss: 1.5859e-04 - mape: 2.5993 - val_loss: 7.5742e-05 - val_mape: 2.7190\n",
      "Epoch 94/150\n",
      "7/7 [==============================] - 0s 40ms/step - loss: 1.7338e-04 - mape: 2.5869 - val_loss: 8.8090e-05 - val_mape: 2.9315\n",
      "Epoch 95/150\n",
      "7/7 [==============================] - 0s 42ms/step - loss: 1.3196e-04 - mape: 2.6671 - val_loss: 7.7949e-05 - val_mape: 2.7583\n",
      "Epoch 96/150\n",
      "7/7 [==============================] - 0s 38ms/step - loss: 1.0431e-04 - mape: 2.5240 - val_loss: 4.5277e-06 - val_mape: 0.6325\n",
      "Epoch 97/150\n",
      "7/7 [==============================] - 0s 38ms/step - loss: 1.2819e-04 - mape: 2.8221 - val_loss: 3.1504e-05 - val_mape: 1.7507\n",
      "Epoch 98/150\n",
      "7/7 [==============================] - 0s 40ms/step - loss: 1.3053e-04 - mape: 2.6484 - val_loss: 1.8289e-04 - val_mape: 4.2245\n",
      "Epoch 99/150\n",
      "7/7 [==============================] - 0s 41ms/step - loss: 1.3347e-04 - mape: 2.7827 - val_loss: 1.8035e-04 - val_mape: 4.1956\n",
      "Epoch 100/150\n",
      "7/7 [==============================] - 0s 41ms/step - loss: 9.1999e-05 - mape: 2.3334 - val_loss: 3.6852e-05 - val_mape: 1.8962\n",
      "Epoch 101/150\n",
      "7/7 [==============================] - 0s 38ms/step - loss: 1.1773e-04 - mape: 2.5870 - val_loss: 5.1739e-05 - val_mape: 2.2475\n",
      "Epoch 102/150\n",
      "7/7 [==============================] - 0s 40ms/step - loss: 9.5711e-05 - mape: 2.2397 - val_loss: 1.8142e-05 - val_mape: 1.3282\n",
      "Epoch 103/150\n",
      "7/7 [==============================] - 0s 40ms/step - loss: 1.0293e-04 - mape: 2.5595 - val_loss: 6.1482e-05 - val_mape: 2.4494\n",
      "Epoch 104/150\n",
      "7/7 [==============================] - 0s 38ms/step - loss: 1.0650e-04 - mape: 2.4985 - val_loss: 8.3068e-05 - val_mape: 2.8479\n",
      "Epoch 105/150\n",
      "7/7 [==============================] - 0s 39ms/step - loss: 8.6169e-05 - mape: 2.1533 - val_loss: 6.5019e-05 - val_mape: 2.5196\n",
      "Epoch 106/150\n",
      "7/7 [==============================] - 0s 41ms/step - loss: 1.2492e-04 - mape: 2.3829 - val_loss: 1.3173e-04 - val_mape: 3.5866\n",
      "Epoch 107/150\n",
      "7/7 [==============================] - 0s 38ms/step - loss: 1.1243e-04 - mape: 2.4097 - val_loss: 1.2589e-04 - val_mape: 3.5061\n",
      "Epoch 108/150\n",
      "7/7 [==============================] - 0s 40ms/step - loss: 1.3032e-04 - mape: 2.5601 - val_loss: 6.8142e-05 - val_mape: 2.5795\n",
      "Epoch 109/150\n",
      "7/7 [==============================] - 0s 38ms/step - loss: 1.2326e-04 - mape: 2.5500 - val_loss: 6.0691e-06 - val_mape: 0.7664\n",
      "Epoch 110/150\n",
      "7/7 [==============================] - 0s 42ms/step - loss: 8.2300e-05 - mape: 2.1578 - val_loss: 5.8558e-05 - val_mape: 2.3907\n",
      "Epoch 111/150\n",
      "7/7 [==============================] - 0s 39ms/step - loss: 1.3913e-04 - mape: 2.5187 - val_loss: 1.2200e-04 - val_mape: 3.4511\n",
      "Epoch 112/150\n",
      "7/7 [==============================] - 0s 40ms/step - loss: 8.6716e-05 - mape: 2.1822 - val_loss: 5.8734e-05 - val_mape: 2.3946\n",
      "Epoch 113/150\n",
      "7/7 [==============================] - 0s 39ms/step - loss: 1.4880e-04 - mape: 2.4042 - val_loss: 5.7654e-05 - val_mape: 2.3723\n",
      "Epoch 114/150\n",
      "7/7 [==============================] - 0s 39ms/step - loss: 7.8359e-05 - mape: 2.0605 - val_loss: 7.9540e-05 - val_mape: 2.7860\n",
      "Epoch 115/150\n",
      "7/7 [==============================] - 0s 39ms/step - loss: 7.7976e-05 - mape: 2.0771 - val_loss: 1.1259e-04 - val_mape: 3.3146\n",
      "Epoch 116/150\n",
      "7/7 [==============================] - 0s 39ms/step - loss: 8.1326e-05 - mape: 2.0970 - val_loss: 7.9311e-05 - val_mape: 2.7829\n",
      "Epoch 117/150\n",
      "7/7 [==============================] - 0s 40ms/step - loss: 1.0818e-04 - mape: 2.1623 - val_loss: 2.8864e-05 - val_mape: 1.6772\n",
      "Epoch 118/150\n",
      "7/7 [==============================] - 0s 39ms/step - loss: 8.7987e-05 - mape: 2.0764 - val_loss: 5.3252e-05 - val_mape: 2.2804\n",
      "Epoch 119/150\n",
      "7/7 [==============================] - 0s 38ms/step - loss: 8.2251e-05 - mape: 2.0632 - val_loss: 8.4753e-05 - val_mape: 2.8769\n",
      "Epoch 120/150\n",
      "7/7 [==============================] - 0s 40ms/step - loss: 8.7605e-05 - mape: 2.2446 - val_loss: 8.2873e-05 - val_mape: 2.8448\n",
      "Epoch 121/150\n",
      "7/7 [==============================] - 0s 40ms/step - loss: 6.5509e-05 - mape: 1.9895 - val_loss: 5.2435e-05 - val_mape: 2.2628\n",
      "Epoch 122/150\n",
      "7/7 [==============================] - 0s 40ms/step - loss: 7.7484e-05 - mape: 2.1388 - val_loss: 1.2209e-04 - val_mape: 3.4528\n",
      "Epoch 123/150\n",
      "7/7 [==============================] - 0s 39ms/step - loss: 8.3814e-05 - mape: 2.1998 - val_loss: 4.5734e-05 - val_mape: 2.1133\n",
      "Epoch 124/150\n",
      "7/7 [==============================] - 0s 40ms/step - loss: 9.0892e-05 - mape: 2.1179 - val_loss: 7.6350e-05 - val_mape: 2.7306\n",
      "Epoch 125/150\n",
      "7/7 [==============================] - 0s 39ms/step - loss: 1.0393e-04 - mape: 2.3053 - val_loss: 4.9111e-05 - val_mape: 2.1900\n",
      "Epoch 126/150\n",
      "7/7 [==============================] - 0s 39ms/step - loss: 1.2531e-04 - mape: 2.3478 - val_loss: 1.2530e-04 - val_mape: 3.4980\n",
      "Epoch 127/150\n",
      "7/7 [==============================] - 0s 43ms/step - loss: 1.4759e-04 - mape: 2.3284 - val_loss: 1.1095e-04 - val_mape: 3.2916\n",
      "Epoch 128/150\n",
      "7/7 [==============================] - 0s 44ms/step - loss: 8.5478e-05 - mape: 2.1735 - val_loss: 2.2533e-05 - val_mape: 1.4833\n"
     ]
    }
   ],
   "source": [
    "history_list = []\n",
    "for i in range(4):\n",
    "  history_list.append(model.fit(train_X[i], train_y[i], validation_split=0.2, shuffle=True,\n",
    "                          epochs=epochs, batch_size=batch_size, verbose=verbose, callbacks=[early_stopping]))"
   ]
  },
  {
   "cell_type": "code",
   "execution_count": 16,
   "metadata": {
    "colab": {
     "base_uri": "https://localhost:8080/",
     "height": 1000
    },
    "executionInfo": {
     "elapsed": 7528,
     "status": "ok",
     "timestamp": 1669037436710,
     "user": {
      "displayName": "이휘영",
      "userId": "05780814047568345287"
     },
     "user_tz": -540
    },
    "id": "fvkGPFr10TXV",
    "outputId": "b7e02cf2-d8ca-44cf-9e96-a56b7a2ff4c1"
   },
   "outputs": [
    {
     "data": {
      "image/png": "[encoded data removed]",
      "text/plain": [
       "<Figure size 720x288 with 2 Axes>"
      ]
     },
     "metadata": {
      "needs_background": "light"
     },
     "output_type": "display_data"
    },
    {
     "data": {
      "image/png": "[encoded data removed]",
      "text/plain": [
       "<Figure size 720x288 with 2 Axes>"
      ]
     },
     "metadata": {
      "needs_background": "light"
     },
     "output_type": "display_data"
    },
    {
     "data": {
      "image/png": "[encoded data removed]",
      "text/plain": [
       "<Figure size 720x288 with 2 Axes>"
      ]
     },
     "metadata": {
      "needs_background": "light"
     },
     "output_type": "display_data"
    },
    {
     "data": {
      "image/png": "[encoded data removed]",
      "text/plain": [
       "<Figure size 720x288 with 2 Axes>"
      ]
     },
     "metadata": {
      "needs_background": "light"
     },
     "output_type": "display_data"
    }
   ],
   "source": [
    "import matplotlib.pyplot as plt\n",
    "\n",
    "for history in history_list:\n",
    "  history_dict= history.history\n",
    "\n",
    "  loss = history_dict['loss']\n",
    "  val_loss = history_dict['val_loss']\n",
    "\n",
    "  accuracy = history_dict['mape']\n",
    "  val_accuracy = history_dict['val_mape']\n",
    "\n",
    "  epochs = range(1, len(loss)+1)\n",
    "\n",
    "  plt.figure(figsize=(10, 4))\n",
    "\n",
    "  plt.subplot(121)\n",
    "\n",
    "\n",
    "  plt.plot(epochs, loss, 'bo',label='training loss')\n",
    "  plt.plot(epochs, val_loss, 'b', label='validation loss')\n",
    "  plt.xlabel('Epochs')\n",
    "  plt.ylabel('Loss') \n",
    "  plt.legend()\n",
    "\n",
    "  plt.subplot(122)\n",
    "\n",
    "\n",
    "  plt.plot(epochs, accuracy, 'bo',label='training mape')\n",
    "  plt.plot(epochs, val_accuracy, 'b', label='validation mape')\n",
    "  plt.xlabel('Epochs')\n",
    "  plt.ylabel('MAPE')\n",
    "  plt.ylim((0, 100))\n",
    "  plt.legend()\n",
    "\n",
    "  plt.tight_layout()\n",
    "  plt.show()"
   ]
  },
  {
   "cell_type": "markdown",
   "metadata": {
    "id": "9ubCsfrOo8fe"
   },
   "source": [
    "test set에 대해 preprocessing(FFT, FE)가 적용된 파일을 로컬로부터 불러옴"
   ]
  },
  {
   "cell_type": "code",
   "execution_count": 17,
   "metadata": {
    "executionInfo": {
     "elapsed": 9,
     "status": "ok",
     "timestamp": 1669037436711,
     "user": {
      "displayName": "이휘영",
      "userId": "05780814047568345287"
     },
     "user_tz": -540
    },
    "id": "3Cu_nX8DoCdJ"
   },
   "outputs": [],
   "source": [
    "os.chdir(f\"/content/drive/MyDrive/지하배관 안전관리 빅데이터 활용 경진대회/np_localization\")\n",
    "ld_dataset1 = np.load(\"dataset1_bool.npy\").reshape(-1,)\n",
    "ld_dataset2 = np.load(\"dataset2_bool.npy\").reshape(-1,)\n",
    "ld_dataset3 = np.load(\"dataset3_bool.npy\").reshape(-1,)"
   ]
  },
  {
   "cell_type": "markdown",
   "metadata": {
    "id": "a9ma69QdpJKQ"
   },
   "source": [
    "Leakage detection을 통해 'Y'였던 로우만을 추출"
   ]
  },
  {
   "cell_type": "code",
   "execution_count": 18,
   "metadata": {
    "executionInfo": {
     "elapsed": 8,
     "status": "ok",
     "timestamp": 1669037436711,
     "user": {
      "displayName": "이휘영",
      "userId": "05780814047568345287"
     },
     "user_tz": -540
    },
    "id": "J6xgYbpYvLYT"
   },
   "outputs": [],
   "source": [
    "temp = []\n",
    "for i, x in enumerate(ld_dataset1):\n",
    "  if x:\n",
    "    temp.append(i)\n",
    "ld_dataset1 = temp\n",
    "temp = []\n",
    "for i, x in enumerate(ld_dataset2):\n",
    "  if x:\n",
    "    temp.append(i)\n",
    "ld_dataset2 = temp\n",
    "temp = []\n",
    "for i, x in enumerate(ld_dataset3):\n",
    "  if x:\n",
    "    temp.append(i)\n",
    "ld_dataset3 = temp"
   ]
  },
  {
   "cell_type": "code",
   "execution_count": 19,
   "metadata": {
    "colab": {
     "base_uri": "https://localhost:8080/"
    },
    "executionInfo": {
     "elapsed": 7,
     "status": "ok",
     "timestamp": 1669037436711,
     "user": {
      "displayName": "이휘영",
      "userId": "05780814047568345287"
     },
     "user_tz": -540
    },
    "id": "kAOcAcui0dvc",
    "outputId": "00f28e34-4faa-4ddb-b07c-a8d2251cc6ad"
   },
   "outputs": [
    {
     "name": "stdout",
     "output_type": "stream",
     "text": [
      "(196, 57, 3)\n",
      "(156, 57, 3)\n",
      "(34, 57, 3)\n"
     ]
    }
   ],
   "source": [
    "names = [\"Dataset1\", \"Dataset2\", \"Dataset3\"]\n",
    "for name in names:\n",
    "  if name == \"Dataset1\":\n",
    "    temp = prep_data_pretained(name=name, fluid=0, pressure=7, pinhole=1, seconds=ld_dataset1) #Water:0, Gas:1\n",
    "  elif name == \"Dataset2\":\n",
    "    temp = prep_data_pretained(name=name, fluid=0, pressure=7, pinhole=1, seconds=ld_dataset2)\n",
    "  else:\n",
    "    temp = prep_data_pretained(name=name, fluid=0, pressure=7, pinhole=1, seconds=ld_dataset3)\n",
    "  os.chdir(f\"/content/drive/MyDrive/지하배관 안전관리 빅데이터 활용 경진대회/np_localization\")\n",
    "  np.save(f\"{name}_X.npy\",temp)\n",
    "  print(temp.shape)"
   ]
  },
  {
   "cell_type": "code",
   "execution_count": 20,
   "metadata": {
    "executionInfo": {
     "elapsed": 7,
     "status": "ok",
     "timestamp": 1669037436712,
     "user": {
      "displayName": "이휘영",
      "userId": "05780814047568345287"
     },
     "user_tz": -540
    },
    "id": "YNq4mRD62pe_"
   },
   "outputs": [],
   "source": [
    "os.chdir(f\"/content/drive/MyDrive/지하배관 안전관리 빅데이터 활용 경진대회/np_localization\")\n",
    "dataset1_X = np.load(\"Dataset1_X.npy\")\n",
    "dataset2_X = np.load(\"Dataset2_X.npy\")\n",
    "dataset3_X = np.load(\"Dataset3_X.npy\")"
   ]
  },
  {
   "cell_type": "code",
   "execution_count": 21,
   "metadata": {
    "colab": {
     "base_uri": "https://localhost:8080/"
    },
    "executionInfo": {
     "elapsed": 7,
     "status": "ok",
     "timestamp": 1669037436712,
     "user": {
      "displayName": "이휘영",
      "userId": "05780814047568345287"
     },
     "user_tz": -540
    },
    "id": "T6RGiudTpvlp",
    "outputId": "411b7916-7090-4742-819f-4e92bf09b9f7"
   },
   "outputs": [
    {
     "data": {
      "text/plain": [
       "(156, 57, 3)"
      ]
     },
     "execution_count": 21,
     "metadata": {},
     "output_type": "execute_result"
    }
   ],
   "source": [
    "dataset2_X.shape"
   ]
  },
  {
   "cell_type": "markdown",
   "metadata": {
    "id": "1dHt2Vo0pV29"
   },
   "source": [
    "모델에 test set 적용 "
   ]
  },
  {
   "cell_type": "code",
   "execution_count": 22,
   "metadata": {
    "colab": {
     "base_uri": "https://localhost:8080/"
    },
    "executionInfo": {
     "elapsed": 740,
     "status": "ok",
     "timestamp": 1669037437447,
     "user": {
      "displayName": "이휘영",
      "userId": "05780814047568345287"
     },
     "user_tz": -540
    },
    "id": "7cKnuKno2t4z",
    "outputId": "4628bd2b-d00c-4ba1-ab76-59b86ee9c091"
   },
   "outputs": [
    {
     "name": "stdout",
     "output_type": "stream",
     "text": [
      "7/7 [==============================] - 1s 11ms/step\n",
      "5/5 [==============================] - 0s 11ms/step\n",
      "2/2 [==============================] - 0s 13ms/step\n"
     ]
    }
   ],
   "source": [
    "preds1 = model.predict(dataset1_X)\n",
    "preds2 = model.predict(dataset2_X)\n",
    "preds3 = model.predict(dataset3_X)"
   ]
  },
  {
   "cell_type": "code",
   "execution_count": 26,
   "metadata": {
    "colab": {
     "base_uri": "https://localhost:8080/"
    },
    "executionInfo": {
     "elapsed": 288,
     "status": "ok",
     "timestamp": 1669037575538,
     "user": {
      "displayName": "이휘영",
      "userId": "05780814047568345287"
     },
     "user_tz": -540
    },
    "id": "w8Bo7gXO25IT",
    "outputId": "12089e6c-8280-4567-b42e-ecfb33667453"
   },
   "outputs": [
    {
     "data": {
      "text/plain": [
       "array([[0.31558475],\n",
       "       [0.31567198],\n",
       "       [0.31583053],\n",
       "       [0.31524414],\n",
       "       [0.31557405],\n",
       "       [0.31504214],\n",
       "       [0.31526586],\n",
       "       [0.31556633],\n",
       "       [0.31556615],\n",
       "       [0.31551528],\n",
       "       [0.3155076 ],\n",
       "       [0.315408  ],\n",
       "       [0.31558204],\n",
       "       [0.31559125],\n",
       "       [0.3155361 ],\n",
       "       [0.31555122],\n",
       "       [0.31521833],\n",
       "       [0.31558365],\n",
       "       [0.3156087 ],\n",
       "       [0.31556946],\n",
       "       [0.31528598],\n",
       "       [0.31549507],\n",
       "       [0.31544563],\n",
       "       [0.31559244],\n",
       "       [0.3150536 ],\n",
       "       [0.31545994],\n",
       "       [0.31558335],\n",
       "       [0.3155701 ],\n",
       "       [0.315574  ],\n",
       "       [0.3154508 ],\n",
       "       [0.31558672],\n",
       "       [0.31557107],\n",
       "       [0.31558347],\n",
       "       [0.31560308],\n",
       "       [0.31533492],\n",
       "       [0.31557164],\n",
       "       [0.31552535],\n",
       "       [0.31555414],\n",
       "       [0.31557617],\n",
       "       [0.31558478],\n",
       "       [0.31539643],\n",
       "       [0.3155487 ],\n",
       "       [0.31562042],\n",
       "       [0.3155835 ],\n",
       "       [0.31525218],\n",
       "       [0.31553784],\n",
       "       [0.3155493 ],\n",
       "       [0.31553748],\n",
       "       [0.315567  ],\n",
       "       [0.31502205],\n",
       "       [0.31547353],\n",
       "       [0.31559202],\n",
       "       [0.31556603],\n",
       "       [0.31561574],\n",
       "       [0.3146302 ],\n",
       "       [0.31558487],\n",
       "       [0.31557077],\n",
       "       [0.31552425],\n",
       "       [0.3155238 ],\n",
       "       [0.31551582],\n",
       "       [0.3156356 ],\n",
       "       [0.3155561 ],\n",
       "       [0.3155264 ],\n",
       "       [0.31558627],\n",
       "       [0.31495547],\n",
       "       [0.31552568],\n",
       "       [0.31559613],\n",
       "       [0.31538486],\n",
       "       [0.3153967 ],\n",
       "       [0.3155839 ],\n",
       "       [0.31557456],\n",
       "       [0.31558743],\n",
       "       [0.31561688],\n",
       "       [0.3155649 ],\n",
       "       [0.31552628],\n",
       "       [0.31553182],\n",
       "       [0.3155015 ],\n",
       "       [0.31557694],\n",
       "       [0.31548595],\n",
       "       [0.31539178],\n",
       "       [0.31556463],\n",
       "       [0.31557736],\n",
       "       [0.3153141 ],\n",
       "       [0.31555414],\n",
       "       [0.3154447 ],\n",
       "       [0.31552   ],\n",
       "       [0.31482574],\n",
       "       [0.31552064],\n",
       "       [0.31539953],\n",
       "       [0.3155125 ],\n",
       "       [0.31551144],\n",
       "       [0.31514868],\n",
       "       [0.31540465],\n",
       "       [0.31546348],\n",
       "       [0.31557393],\n",
       "       [0.3155118 ],\n",
       "       [0.3151963 ],\n",
       "       [0.31557113],\n",
       "       [0.3155734 ],\n",
       "       [0.31554288],\n",
       "       [0.3155657 ],\n",
       "       [0.31543562],\n",
       "       [0.31552035],\n",
       "       [0.3155751 ],\n",
       "       [0.31556422],\n",
       "       [0.31550896],\n",
       "       [0.31551355],\n",
       "       [0.3155037 ],\n",
       "       [0.31556952],\n",
       "       [0.315515  ],\n",
       "       [0.3155763 ],\n",
       "       [0.31549582],\n",
       "       [0.31557706],\n",
       "       [0.31555608],\n",
       "       [0.3152344 ],\n",
       "       [0.3153634 ],\n",
       "       [0.3155397 ],\n",
       "       [0.3153109 ],\n",
       "       [0.31557077],\n",
       "       [0.31557482],\n",
       "       [0.31555942],\n",
       "       [0.31541184],\n",
       "       [0.31548277],\n",
       "       [0.31549883],\n",
       "       [0.31557304],\n",
       "       [0.31557062],\n",
       "       [0.3155634 ],\n",
       "       [0.31549034],\n",
       "       [0.31553712],\n",
       "       [0.31481075],\n",
       "       [0.3154897 ],\n",
       "       [0.31551015],\n",
       "       [0.31544945],\n",
       "       [0.31552032],\n",
       "       [0.31556416],\n",
       "       [0.3153774 ],\n",
       "       [0.31506702],\n",
       "       [0.31549743],\n",
       "       [0.31558335],\n",
       "       [0.31553057],\n",
       "       [0.3155131 ],\n",
       "       [0.31551522],\n",
       "       [0.31552523],\n",
       "       [0.3151629 ],\n",
       "       [0.31548008],\n",
       "       [0.3148754 ],\n",
       "       [0.31561145],\n",
       "       [0.3155735 ],\n",
       "       [0.31558615],\n",
       "       [0.31555876],\n",
       "       [0.3153645 ],\n",
       "       [0.31522468],\n",
       "       [0.3154589 ],\n",
       "       [0.3154996 ],\n",
       "       [0.31549042],\n",
       "       [0.315583  ],\n",
       "       [0.31558007],\n",
       "       [0.3155909 ],\n",
       "       [0.31524324],\n",
       "       [0.31519854],\n",
       "       [0.31553936],\n",
       "       [0.31500635],\n",
       "       [0.31555438],\n",
       "       [0.31540683],\n",
       "       [0.31552148],\n",
       "       [0.31556296],\n",
       "       [0.31555018],\n",
       "       [0.31557214],\n",
       "       [0.31535137],\n",
       "       [0.3154006 ],\n",
       "       [0.31461945],\n",
       "       [0.31556317],\n",
       "       [0.31557775],\n",
       "       [0.3153432 ],\n",
       "       [0.31520522],\n",
       "       [0.31540242],\n",
       "       [0.3152117 ],\n",
       "       [0.31556708],\n",
       "       [0.3155855 ],\n",
       "       [0.31556544],\n",
       "       [0.31553367],\n",
       "       [0.3155772 ],\n",
       "       [0.31556883],\n",
       "       [0.31542954],\n",
       "       [0.31560192],\n",
       "       [0.31555903],\n",
       "       [0.31555453],\n",
       "       [0.3155744 ],\n",
       "       [0.3153815 ],\n",
       "       [0.3155841 ],\n",
       "       [0.31555843],\n",
       "       [0.31548995],\n",
       "       [0.31553143],\n",
       "       [0.31558272],\n",
       "       [0.31499627],\n",
       "       [0.31553867]], dtype=float32)"
      ]
     },
     "execution_count": 26,
     "metadata": {},
     "output_type": "execute_result"
    }
   ],
   "source": [
    "preds1"
   ]
  },
  {
   "cell_type": "markdown",
   "metadata": {
    "id": "lQ2ojerdpdkP"
   },
   "source": [
    "메타 데이터인 channel의 위치를 이용하여 정답 값 구해냄, 이 때 dataset3은 3채널의 위치가 120000이므로 다음과 같이 적용 "
   ]
  },
  {
   "cell_type": "code",
   "execution_count": 27,
   "metadata": {
    "executionInfo": {
     "elapsed": 276,
     "status": "ok",
     "timestamp": 1669037939787,
     "user": {
      "displayName": "이휘영",
      "userId": "05780814047568345287"
     },
     "user_tz": -540
    },
    "id": "PLrd7aeTZNcR"
   },
   "outputs": [],
   "source": [
    "preds1 = preds1*2500\n",
    "preds2 = preds2*2500\n",
    "preds3 = 120000 - preds3*120000"
   ]
  },
  {
   "cell_type": "markdown",
   "metadata": {
    "id": "vGC7Q81qp6KD"
   },
   "source": [
    "submission을 위해 로컬 저장"
   ]
  },
  {
   "cell_type": "code",
   "execution_count": 31,
   "metadata": {
    "executionInfo": {
     "elapsed": 330,
     "status": "ok",
     "timestamp": 1669038036796,
     "user": {
      "displayName": "이휘영",
      "userId": "05780814047568345287"
     },
     "user_tz": -540
    },
    "id": "T6UhuLMealn9"
   },
   "outputs": [],
   "source": [
    "os.chdir(f\"/content/drive/MyDrive/지하배관 안전관리 빅데이터 활용 경진대회/submission\")\n",
    "np.save(\"dataset_1_loacalization.npy\", preds1)\n",
    "np.save(\"dataset_2_loacalization.npy\", preds2)\n",
    "np.save(\"dataset_3_loacalization.npy\", preds3)"
   ]
  },
  {
   "cell_type": "code",
   "execution_count": 32,
   "metadata": {
    "executionInfo": {
     "elapsed": 272,
     "status": "ok",
     "timestamp": 1669038048995,
     "user": {
      "displayName": "이휘영",
      "userId": "05780814047568345287"
     },
     "user_tz": -540
    },
    "id": "RHbqqwJeYVgM"
   },
   "outputs": [],
   "source": [
    "model.save('/content/drive/MyDrive/지하배관 안전관리 빅데이터 활용 경진대회/submission/localization.h5')"
   ]
  }
 ],
 "metadata": {
  "colab": {
   "authorship_tag": "ABX9TyO9zJFg1BJ62KKEDcG9s8Vl",
   "provenance": []
  },
  "kernelspec": {
   "display_name": "Python 3",
   "language": "python",
   "name": "python3"
  },
  "language_info": {
   "codemirror_mode": {
    "name": "ipython",
    "version": 3
   },
   "file_extension": ".py",
   "mimetype": "text/x-python",
   "name": "python",
   "nbconvert_exporter": "python",
   "pygments_lexer": "ipython3",
   "version": "3.8.3"
  }
 },
 "nbformat": 4,
 "nbformat_minor": 1
}
