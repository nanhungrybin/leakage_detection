{
 "cells": [
  {
   "cell_type": "code",
   "execution_count": 1,
   "metadata": {
    "colab": {
     "base_uri": "https://localhost:8080/"
    },
    "executionInfo": {
     "elapsed": 20423,
     "status": "ok",
     "timestamp": 1669038153382,
     "user": {
      "displayName": "이휘영",
      "userId": "05780814047568345287"
     },
     "user_tz": -540
    },
    "id": "bsarp_H5bGI1",
    "outputId": "38d7a7dd-0d7b-4e33-f168-c42e0cee466f"
   },
   "outputs": [
    {
     "name": "stdout",
     "output_type": "stream",
     "text": [
      "Mounted at /content/drive/\n"
     ]
    }
   ],
   "source": [
    "from google.colab import drive\n",
    "drive.mount('/content/drive/')"
   ]
  },
  {
   "cell_type": "code",
   "execution_count": 3,
   "metadata": {
    "executionInfo": {
     "elapsed": 2,
     "status": "ok",
     "timestamp": 1669038178322,
     "user": {
      "displayName": "이휘영",
      "userId": "05780814047568345287"
     },
     "user_tz": -540
    },
    "id": "-x_d4a3fbKvc"
   },
   "outputs": [],
   "source": [
    "import numpy as np\n",
    "import pandas as pd\n",
    "import os"
   ]
  },
  {
   "cell_type": "code",
   "execution_count": 4,
   "metadata": {
    "executionInfo": {
     "elapsed": 3,
     "status": "ok",
     "timestamp": 1669038191336,
     "user": {
      "displayName": "이휘영",
      "userId": "05780814047568345287"
     },
     "user_tz": -540
    },
    "id": "NwZt2qSfbTIP"
   },
   "outputs": [],
   "source": [
    "os.chdir(f\"/content/drive/MyDrive/지하배관 안전관리 빅데이터 활용 경진대회/submission\")"
   ]
  },
  {
   "cell_type": "code",
   "execution_count": 5,
   "metadata": {
    "executionInfo": {
     "elapsed": 1689,
     "status": "ok",
     "timestamp": 1669038246722,
     "user": {
      "displayName": "이휘영",
      "userId": "05780814047568345287"
     },
     "user_tz": -540
    },
    "id": "uRKKt5vwba2C"
   },
   "outputs": [],
   "source": [
    "dataset1_leakage_detection = np.load(\"dataset1_y.npy\")\n",
    "dataset2_leakage_detection = np.load(\"dataset2_y.npy\")\n",
    "dataset3_leakage_detection = np.load(\"dataset3_y.npy\")"
   ]
  },
  {
   "cell_type": "code",
   "execution_count": 23,
   "metadata": {
    "executionInfo": {
     "elapsed": 506,
     "status": "ok",
     "timestamp": 1669038970080,
     "user": {
      "displayName": "이휘영",
      "userId": "05780814047568345287"
     },
     "user_tz": -540
    },
    "id": "DfaygUW4bn_5"
   },
   "outputs": [],
   "source": [
    "dataset1_localization = list(np.load(\"dataset_1_loacalization.npy\"))\n",
    "dataset2_localization = list(np.load(\"dataset_2_loacalization.npy\"))\n",
    "dataset3_localization = list(np.load(\"dataset_3_loacalization.npy\"))"
   ]
  },
  {
   "cell_type": "code",
   "execution_count": 14,
   "metadata": {
    "executionInfo": {
     "elapsed": 391,
     "status": "ok",
     "timestamp": 1669038538593,
     "user": {
      "displayName": "이휘영",
      "userId": "05780814047568345287"
     },
     "user_tz": -540
    },
    "id": "TDsmwG58b1WE"
   },
   "outputs": [],
   "source": [
    "dataset1 = pd.DataFrame()\n",
    "dataset2 = pd.DataFrame()\n",
    "dataset3 = pd.DataFrame()"
   ]
  },
  {
   "cell_type": "code",
   "execution_count": 15,
   "metadata": {
    "executionInfo": {
     "elapsed": 1,
     "status": "ok",
     "timestamp": 1669038539920,
     "user": {
      "displayName": "이휘영",
      "userId": "05780814047568345287"
     },
     "user_tz": -540
    },
    "id": "H1y1nUSMcLPL"
   },
   "outputs": [],
   "source": [
    "dataset1['time (sec.)'] = list(range(1,361))\n",
    "dataset2['time (sec.)'] = list(range(1,361))\n",
    "dataset3['time (sec.)'] = list(range(1,96))"
   ]
  },
  {
   "cell_type": "code",
   "execution_count": 17,
   "metadata": {
    "executionInfo": {
     "elapsed": 387,
     "status": "ok",
     "timestamp": 1669038598237,
     "user": {
      "displayName": "이휘영",
      "userId": "05780814047568345287"
     },
     "user_tz": -540
    },
    "id": "getNGaQPcVCa"
   },
   "outputs": [],
   "source": [
    "dataset1['leakage (Y/N)'] = dataset1_leakage_detection\n",
    "dataset2['leakage (Y/N)'] = dataset2_leakage_detection\n",
    "dataset3['leakage (Y/N)'] = dataset3_leakage_detection"
   ]
  },
  {
   "cell_type": "code",
   "execution_count": 19,
   "metadata": {
    "executionInfo": {
     "elapsed": 2,
     "status": "ok",
     "timestamp": 1669038753055,
     "user": {
      "displayName": "이휘영",
      "userId": "05780814047568345287"
     },
     "user_tz": -540
    },
    "id": "rG8zn7IicxTo"
   },
   "outputs": [],
   "source": [
    "dataset1['Location (mm)'] = ''\n",
    "dataset2['Location (mm)'] = ''\n",
    "dataset3['Location (mm)'] = ''"
   ]
  },
  {
   "cell_type": "code",
   "execution_count": 24,
   "metadata": {
    "executionInfo": {
     "elapsed": 2,
     "status": "ok",
     "timestamp": 1669038973640,
     "user": {
      "displayName": "이휘영",
      "userId": "05780814047568345287"
     },
     "user_tz": -540
    },
    "id": "QgIIdretc_WG"
   },
   "outputs": [],
   "source": [
    "for i in range(len(dataset1)):\n",
    "  if dataset1.iloc[i, 1] == \"Y\":\n",
    "    dataset1.iloc[i, 2] = dataset1_localization.pop()"
   ]
  },
  {
   "cell_type": "code",
   "execution_count": 26,
   "metadata": {
    "executionInfo": {
     "elapsed": 444,
     "status": "ok",
     "timestamp": 1669039004949,
     "user": {
      "displayName": "이휘영",
      "userId": "05780814047568345287"
     },
     "user_tz": -540
    },
    "id": "FAgTy4JwdleF"
   },
   "outputs": [],
   "source": [
    "for i in range(len(dataset2)):\n",
    "  if dataset2.iloc[i, 1] == \"Y\":\n",
    "    dataset2.iloc[i, 2] = dataset2_localization.pop()"
   ]
  },
  {
   "cell_type": "code",
   "execution_count": 27,
   "metadata": {
    "executionInfo": {
     "elapsed": 2,
     "status": "ok",
     "timestamp": 1669039020307,
     "user": {
      "displayName": "이휘영",
      "userId": "05780814047568345287"
     },
     "user_tz": -540
    },
    "id": "2j0IPpsJebLT"
   },
   "outputs": [],
   "source": [
    "for i in range(len(dataset3)):\n",
    "  if dataset3.iloc[i, 1] == \"Y\":\n",
    "    dataset3.iloc[i, 2] = dataset3_localization.pop()"
   ]
  },
  {
   "cell_type": "code",
   "execution_count": 28,
   "metadata": {
    "executionInfo": {
     "elapsed": 3,
     "status": "ok",
     "timestamp": 1669039051687,
     "user": {
      "displayName": "이휘영",
      "userId": "05780814047568345287"
     },
     "user_tz": -540
    },
    "id": "vWFOT4jWelP-"
   },
   "outputs": [],
   "source": [
    "dataset1.to_csv(\"dataset1_result.csv\", index=False)"
   ]
  },
  {
   "cell_type": "code",
   "execution_count": 29,
   "metadata": {
    "executionInfo": {
     "elapsed": 1,
     "status": "ok",
     "timestamp": 1669039063214,
     "user": {
      "displayName": "이휘영",
      "userId": "05780814047568345287"
     },
     "user_tz": -540
    },
    "id": "J0EjZ1w-es2c"
   },
   "outputs": [],
   "source": [
    "dataset2.to_csv(\"dataset2_result.csv\", index=False)"
   ]
  },
  {
   "cell_type": "code",
   "execution_count": 30,
   "metadata": {
    "executionInfo": {
     "elapsed": 3,
     "status": "ok",
     "timestamp": 1669039068407,
     "user": {
      "displayName": "이휘영",
      "userId": "05780814047568345287"
     },
     "user_tz": -540
    },
    "id": "hWqjeS5UevvD"
   },
   "outputs": [],
   "source": [
    "dataset3.to_csv(\"dataset3_result.csv\", index=False)"
   ]
  }
 ],
 "metadata": {
  "colab": {
   "authorship_tag": "ABX9TyPLg0GuqEfykpRMVgCfz4+5",
   "provenance": []
  },
  "kernelspec": {
   "display_name": "Python 3",
   "language": "python",
   "name": "python3"
  },
  "language_info": {
   "codemirror_mode": {
    "name": "ipython",
    "version": 3
   },
   "file_extension": ".py",
   "mimetype": "text/x-python",
   "name": "python",
   "nbconvert_exporter": "python",
   "pygments_lexer": "ipython3",
   "version": "3.8.3"
  }
 },
 "nbformat": 4,
 "nbformat_minor": 1
}
