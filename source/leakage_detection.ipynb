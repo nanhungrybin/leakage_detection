{
 "cells": [
  {
   "cell_type": "markdown",
   "metadata": {
    "id": "oUYy50n9fUx9"
   },
   "source": [
    "\n",
    "### 구글 드라이브 마운트"
   ]
  },
  {
   "cell_type": "code",
   "execution_count": 1,
   "metadata": {
    "colab": {
     "base_uri": "https://localhost:8080/"
    },
    "executionInfo": {
     "elapsed": 2426,
     "status": "ok",
     "timestamp": 1669037785066,
     "user": {
      "displayName": "이휘영",
      "userId": "05780814047568345287"
     },
     "user_tz": -540
    },
    "id": "T6iURvt3jQn1",
    "outputId": "da8b99fb-e597-4219-a327-93692b4f2aca"
   },
   "outputs": [
    {
     "name": "stdout",
     "output_type": "stream",
     "text": [
      "Drive already mounted at /content/drive/; to attempt to forcibly remount, call drive.mount(\"/content/drive/\", force_remount=True).\n"
     ]
    }
   ],
   "source": [
    "from google.colab import drive\n",
    "drive.mount('/content/drive/')"
   ]
  },
  {
   "cell_type": "markdown",
   "metadata": {
    "id": "qhS-wNX2fZ-X"
   },
   "source": [
    "### 패키지 Import"
   ]
  },
  {
   "cell_type": "code",
   "execution_count": 2,
   "metadata": {
    "colab": {
     "base_uri": "https://localhost:8080/"
    },
    "executionInfo": {
     "elapsed": 4405,
     "status": "ok",
     "timestamp": 1669037789467,
     "user": {
      "displayName": "이휘영",
      "userId": "05780814047568345287"
     },
     "user_tz": -540
    },
    "id": "N_tID3wtmJXW",
    "outputId": "73ea2393-b1e5-48da-8ae5-3baf2be994f4"
   },
   "outputs": [
    {
     "name": "stdout",
     "output_type": "stream",
     "text": [
      "2.9.2 1.21.6\n"
     ]
    }
   ],
   "source": [
    "# !pip install tensorflow==2.4.1\n",
    "# !pip install numpy==1.19.2\n",
    "import tensorflow as tf\n",
    "import numpy as np\n",
    "print(tf.__version__, np.__version__)"
   ]
  },
  {
   "cell_type": "code",
   "execution_count": 3,
   "metadata": {
    "executionInfo": {
     "elapsed": 11,
     "status": "ok",
     "timestamp": 1669037789467,
     "user": {
      "displayName": "이휘영",
      "userId": "05780814047568345287"
     },
     "user_tz": -540
    },
    "id": "Lvl_lBN1jidU"
   },
   "outputs": [],
   "source": [
    "from tensorflow.keras.models import Sequential\n",
    "\n",
    "from tensorflow.keras.optimizers import Adam\n",
    "from tensorflow.keras import layers\n",
    "from tensorflow.keras.layers import LSTM,Dropout,Dense,TimeDistributed,Conv1D,MaxPooling1D,Flatten,BatchNormalization, Activation\n",
    "from tensorflow.keras import backend as K"
   ]
  },
  {
   "cell_type": "code",
   "execution_count": 4,
   "metadata": {
    "executionInfo": {
     "elapsed": 11,
     "status": "ok",
     "timestamp": 1669037789467,
     "user": {
      "displayName": "이휘영",
      "userId": "05780814047568345287"
     },
     "user_tz": -540
    },
    "id": "wOj714o4yXMw"
   },
   "outputs": [],
   "source": [
    "from tqdm import tqdm\n",
    "from numpy import fromfile\n",
    "from os import listdir\n",
    "from os.path import isfile, join"
   ]
  },
  {
   "cell_type": "markdown",
   "metadata": {
    "id": "6dFGJZUPfgCh"
   },
   "source": [
    "대회 평가 지표 F1_Score 정의"
   ]
  },
  {
   "cell_type": "code",
   "execution_count": 5,
   "metadata": {
    "executionInfo": {
     "elapsed": 11,
     "status": "ok",
     "timestamp": 1669037789468,
     "user": {
      "displayName": "이휘영",
      "userId": "05780814047568345287"
     },
     "user_tz": -540
    },
    "id": "jsjbouYPuy1k"
   },
   "outputs": [],
   "source": [
    "def f1_score(y_true, y_pred): #taken from old keras source code\n",
    "    true_positives = K.sum(K.round(K.clip(y_true * y_pred, 0, 1)))\n",
    "    possible_positives = K.sum(K.round(K.clip(y_true, 0, 1)))\n",
    "    predicted_positives = K.sum(K.round(K.clip(y_pred, 0, 1)))\n",
    "    precision = true_positives / (predicted_positives + K.epsilon())\n",
    "    recall = true_positives / (possible_positives + K.epsilon())\n",
    "    f1_val = 2*(precision*recall)/(precision+recall+K.epsilon())\n",
    "    return f1_val"
   ]
  },
  {
   "cell_type": "markdown",
   "metadata": {
    "id": "TQtm9-rjhGl6"
   },
   "source": [
    "매 초 각 채널의 signal값 100만개를 모두 모델에 넣을 수 없으므로 19개 feature로 extract"
   ]
  },
  {
   "cell_type": "code",
   "execution_count": null,
   "metadata": {
    "id": "8rFPCJsHhDLk"
   },
   "outputs": [],
   "source": [
    "def feature_extractor(x): #input_shape(1,000,000(microsec)) output_shape(57)\n",
    "  output = []\n",
    "  mean = x.mean()\n",
    "  std = x.std() \n",
    "  std_top = mean + std \n",
    "  std_bot = mean - std\n",
    "  percentil_calc = np.percentile(x, [0, 1, 25, 50, 75, 99, 100]) \n",
    "  max_range = percentil_calc[-1] - percentil_calc[0] # this is the amplitude of the chunk\n",
    "  relative_percentile = percentil_calc - mean # maybe it could heap to understand the asymmetry\n",
    "  output.append(np.concatenate([np.asarray([mean, std, std_top, std_bot, max_range]),percentil_calc, relative_percentile]))\n",
    "  return np.asarray(output)"
   ]
  },
  {
   "cell_type": "markdown",
   "metadata": {
    "id": "By9Yc0kEh_-X"
   },
   "source": [
    "피처 다변화를 위하여 FFT 진행"
   ]
  },
  {
   "cell_type": "code",
   "execution_count": null,
   "metadata": {
    "id": "TjyKJJ1Yhm_G"
   },
   "outputs": [],
   "source": [
    "from numpy.fft import *\n",
    "from scipy import fftpack"
   ]
  },
  {
   "cell_type": "markdown",
   "metadata": {
    "id": "Vz3csrEsiFBh"
   },
   "source": [
    "frequency 값 1e7미만의 노이즈 제거 함수"
   ]
  },
  {
   "cell_type": "code",
   "execution_count": null,
   "metadata": {
    "id": "JumZD5UMhotJ"
   },
   "outputs": [],
   "source": [
    "def denoise(s, threshold=1e7):\n",
    "    fourier = rfft(s)\n",
    "    frequencies = rfftfreq(s.size, d=2e-2/s.size)\n",
    "    fourier[frequencies > threshold] = 0\n",
    "    return irfft(fourier)"
   ]
  },
  {
   "cell_type": "markdown",
   "metadata": {
    "id": "_kB9fl1niMMp"
   },
   "source": [
    "frequency 값 1e6미만의 lowpass 시그널 획득 함수"
   ]
  },
  {
   "cell_type": "code",
   "execution_count": null,
   "metadata": {
    "id": "Ot6K7EY7hyxA"
   },
   "outputs": [],
   "source": [
    "def low_pass(s, threshold=1e6):\n",
    "    fourier = rfft(s)\n",
    "    frequencies = rfftfreq(s.size, d=2e-2/s.size)\n",
    "    fourier[frequencies > threshold] = 0\n",
    "    return irfft(fourier)"
   ]
  },
  {
   "cell_type": "markdown",
   "metadata": {
    "id": "sg2ITv_2iU8J"
   },
   "source": [
    "frequency 값 1e7 초과의 highpass 시그널 획득 함수"
   ]
  },
  {
   "cell_type": "code",
   "execution_count": null,
   "metadata": {
    "id": "bYMX0GvahSHs"
   },
   "outputs": [],
   "source": [
    "def high_pass(s, threshold=1e7):\n",
    "    fourier = rfft(s)\n",
    "    frequencies = rfftfreq(s.size, d=2e-2/s.size)\n",
    "    fourier[frequencies < threshold] = 0\n",
    "    return irfft(fourier)"
   ]
  },
  {
   "cell_type": "markdown",
   "metadata": {
    "id": "kGftMNlVkQdX"
   },
   "source": [
    "폴더로부터 매 초 각 채널의 .dat 파일을 읽어 denoise, lowpass, highpass 3개의 시그널로 분해 후 각각 위의 19개 feature로 extract 하여 concatenate하였다.\n",
    "각각 다른 .ipynb 파일을 작성하여 진행한 후 로컬에 저장함"
   ]
  },
  {
   "cell_type": "markdown",
   "metadata": {
    "id": "eD97TJ1hnTrt"
   },
   "source": [
    "아래는 denoising 코드"
   ]
  },
  {
   "cell_type": "code",
   "execution_count": null,
   "metadata": {
    "id": "7NbvzcudnVAP"
   },
   "outputs": [],
   "source": [
    "def prep_data(name, train=True, sec=360):\n",
    "  if train:\n",
    "    dir = 'data'\n",
    "  else:\n",
    "    dir = 'test_data'\n",
    "  n_feature = 19\n",
    "  n_channel = 3\n",
    "  n_seconds = sec\n",
    "  output = []\n",
    "  channels = [\"channel1.dat\", \"channel2.dat\", \"channel3.dat\"]\n",
    "  seconds = [f\"{x}seconds\" for x in range(1, n_seconds+1)]\n",
    "  rootPath = f'./{name}'\n",
    "  os.chdir(f\"/content/drive/MyDrive/지하배관 안전관리 빅데이터 활용 경진대회/{dir}/{name}\")\n",
    "  for folderPath in tqdm(seconds):\n",
    "    temp = np.array([])\n",
    "    for channelPath in channels:\n",
    "      data = fromfile(join(rootPath,folderPath,channelPath), np.float64) * 1000 #mV 단위로 전환\n",
    "      data = denoise(data)  #denosing\n",
    "      temp = np.append(temp, feature_extractor(data)).reshape(-1, n_feature)\n",
    "    output.append(temp)\n",
    "  output = np.asarray(output).reshape(-1, n_feature, n_channel)\n",
    "  return output  "
   ]
  },
  {
   "cell_type": "markdown",
   "metadata": {
    "id": "wRH4fjiUlIvy"
   },
   "source": [
    "정답 레이블 작성 후 저장"
   ]
  },
  {
   "cell_type": "code",
   "execution_count": 12,
   "metadata": {
    "executionInfo": {
     "elapsed": 11,
     "status": "ok",
     "timestamp": 1669037789939,
     "user": {
      "displayName": "이휘영",
      "userId": "05780814047568345287"
     },
     "user_tz": -540
    },
    "id": "qvWmMUkAQYDL"
   },
   "outputs": [],
   "source": [
    "train_y = np.array([0]*119 + [1]*241 + [0]*120 + [1]*240 + [0]*120 + [1]*240 + [0]*120 + [1]*240).reshape(4,-1)\n",
    "np.save(\"/content/drive/MyDrive/지하배관 안전관리 빅데이터 활용 경진대회/np/train_y.npy\", train_y)"
   ]
  },
  {
   "cell_type": "markdown",
   "metadata": {
    "id": "gpUoWS32lmn5"
   },
   "source": [
    "로컬로부터 위에서 preprocessing한(FFT 및 FE) train data를 불러옴"
   ]
  },
  {
   "cell_type": "code",
   "execution_count": 14,
   "metadata": {
    "executionInfo": {
     "elapsed": 12,
     "status": "ok",
     "timestamp": 1669037789940,
     "user": {
      "displayName": "이휘영",
      "userId": "05780814047568345287"
     },
     "user_tz": -540
    },
    "id": "OieN5D0A9szX"
   },
   "outputs": [],
   "source": [
    "import os\n",
    "os.chdir(f\"/content/drive/MyDrive/지하배관 안전관리 빅데이터 활용 경진대회/np_concat\")\n",
    "train_X = np.load(\"train_X.npy\")\n",
    "train_y = np.load(\"train_y.npy\")"
   ]
  },
  {
   "cell_type": "markdown",
   "metadata": {
    "id": "_rFI_CJJlxbM"
   },
   "source": [
    "shape은 4개 environment, 360초, 57개의 feature, 3개 채널을 의미함"
   ]
  },
  {
   "cell_type": "code",
   "execution_count": 15,
   "metadata": {
    "colab": {
     "base_uri": "https://localhost:8080/"
    },
    "executionInfo": {
     "elapsed": 11,
     "status": "ok",
     "timestamp": 1669037789940,
     "user": {
      "displayName": "이휘영",
      "userId": "05780814047568345287"
     },
     "user_tz": -540
    },
    "id": "Kb4Xu_LXkXkW",
    "outputId": "2d875e6e-dad8-4470-d3b8-1acab188e5a6"
   },
   "outputs": [
    {
     "name": "stdout",
     "output_type": "stream",
     "text": [
      "(4, 360, 57, 3) (4, 360)\n"
     ]
    }
   ],
   "source": [
    "print(train_X.shape, train_y.shape)"
   ]
  },
  {
   "cell_type": "markdown",
   "metadata": {
    "id": "cNt32wxXlzl8"
   },
   "source": [
    "train test split"
   ]
  },
  {
   "cell_type": "code",
   "execution_count": 16,
   "metadata": {
    "executionInfo": {
     "elapsed": 10,
     "status": "ok",
     "timestamp": 1669037789940,
     "user": {
      "displayName": "이휘영",
      "userId": "05780814047568345287"
     },
     "user_tz": -540
    },
    "id": "rEv2CZ-vVT_a"
   },
   "outputs": [],
   "source": [
    "from sklearn.model_selection import train_test_split\n",
    "tX = []\n",
    "ty = []\n",
    "vX = []\n",
    "vy = []\n",
    "for i in range(4):\n",
    "  temp_train_X, temp_val_X, temp_train_y, temp_val_y = train_test_split(train_X[i], train_y[i], test_size=0.1, random_state=11)\n",
    "  tX.append(temp_train_X)\n",
    "  ty.append(temp_train_y)\n",
    "  vX.append(temp_val_X)\n",
    "  vy.append(temp_val_y)\n",
    "train_X = np.asarray(tX)\n",
    "train_y = np.asarray(ty)\n",
    "val_X = np.asarray(vX)\n",
    "val_y = np.asarray(vy)"
   ]
  },
  {
   "cell_type": "code",
   "execution_count": 17,
   "metadata": {
    "colab": {
     "base_uri": "https://localhost:8080/"
    },
    "executionInfo": {
     "elapsed": 11,
     "status": "ok",
     "timestamp": 1669037789941,
     "user": {
      "displayName": "이휘영",
      "userId": "05780814047568345287"
     },
     "user_tz": -540
    },
    "id": "piNyPkQ6cdNm",
    "outputId": "806cfbeb-ab80-4117-abfc-f753d884ec96"
   },
   "outputs": [
    {
     "data": {
      "text/plain": [
       "(36, 57, 3)"
      ]
     },
     "execution_count": 17,
     "metadata": {},
     "output_type": "execute_result"
    }
   ],
   "source": [
    "val_X[0].shape"
   ]
  },
  {
   "cell_type": "code",
   "execution_count": 18,
   "metadata": {
    "executionInfo": {
     "elapsed": 8,
     "status": "ok",
     "timestamp": 1669037789941,
     "user": {
      "displayName": "이휘영",
      "userId": "05780814047568345287"
     },
     "user_tz": -540
    },
    "id": "QC4TVgmckhPr"
   },
   "outputs": [],
   "source": [
    "verbose, epochs, batch_size = True, 10, 30"
   ]
  },
  {
   "cell_type": "markdown",
   "metadata": {
    "id": "ezy4uU40l51F"
   },
   "source": [
    "3개 채널에 대해 잠재 Feature Extracting을 위한 CNN Layer와 Classification을 위한 LSTM 레이어로 구성된 모델 Build"
   ]
  },
  {
   "cell_type": "code",
   "execution_count": 19,
   "metadata": {
    "colab": {
     "base_uri": "https://localhost:8080/"
    },
    "executionInfo": {
     "elapsed": 1865,
     "status": "ok",
     "timestamp": 1669037791798,
     "user": {
      "displayName": "이휘영",
      "userId": "05780814047568345287"
     },
     "user_tz": -540
    },
    "id": "Db9rllO490B7",
    "outputId": "d36d920c-f3af-4f97-f3ef-fb4d5000c160"
   },
   "outputs": [
    {
     "name": "stdout",
     "output_type": "stream",
     "text": [
      "Model: \"sequential\"\n",
      "_________________________________________________________________\n",
      " Layer (type)                Output Shape              Param #   \n",
      "=================================================================\n",
      " conv1d (Conv1D)             (None, 57, 256)           1024      \n",
      "                                                                 \n",
      " conv1d_1 (Conv1D)           (None, 55, 256)           196864    \n",
      "                                                                 \n",
      " dropout (Dropout)           (None, 55, 256)           0         \n",
      "                                                                 \n",
      " conv1d_2 (Conv1D)           (None, 53, 256)           196864    \n",
      "                                                                 \n",
      " max_pooling1d (MaxPooling1D  (None, 26, 256)          0         \n",
      " )                                                               \n",
      "                                                                 \n",
      " lstm (LSTM)                 (None, 100)               142800    \n",
      "                                                                 \n",
      " dropout_1 (Dropout)         (None, 100)               0         \n",
      "                                                                 \n",
      " dense (Dense)               (None, 100)               10100     \n",
      "                                                                 \n",
      " dense_1 (Dense)             (None, 1)                 101       \n",
      "                                                                 \n",
      "=================================================================\n",
      "Total params: 547,753\n",
      "Trainable params: 547,753\n",
      "Non-trainable params: 0\n",
      "_________________________________________________________________\n"
     ]
    }
   ],
   "source": [
    "# define model\n",
    "model = Sequential()\n",
    "model.add(Conv1D(filters=256, kernel_size=1, activation='relu', input_shape=(57, 3)))\n",
    "model.add(Conv1D(filters=256, kernel_size=3, activation='relu'))\n",
    "model.add(Dropout(0.5))\n",
    "model.add(Conv1D(filters=256, kernel_size=3, activation='relu'))\n",
    "model.add(MaxPooling1D(pool_size=2))\n",
    "# model.add(Flatten())\n",
    "model.add(LSTM(100))\n",
    "model.add(Dropout(0.5))\n",
    "model.add(Dense(100, activation='relu'))\n",
    "model.add(Dense(1, activation='sigmoid'))\n",
    "model.compile(loss='binary_crossentropy', optimizer='adam', metrics=[f1_score])\n",
    "model.summary()"
   ]
  },
  {
   "cell_type": "markdown",
   "metadata": {
    "id": "dbG7FLSsmKxk"
   },
   "source": [
    "4개 environment에 대해 학습 진행"
   ]
  },
  {
   "cell_type": "code",
   "execution_count": 20,
   "metadata": {
    "colab": {
     "base_uri": "https://localhost:8080/"
    },
    "executionInfo": {
     "elapsed": 84647,
     "status": "ok",
     "timestamp": 1669037876444,
     "user": {
      "displayName": "이휘영",
      "userId": "05780814047568345287"
     },
     "user_tz": -540
    },
    "id": "7DAUNFpCkdSv",
    "outputId": "0dc36884-9b23-441c-c292-791cb84e96e6"
   },
   "outputs": [
    {
     "name": "stdout",
     "output_type": "stream",
     "text": [
      "Epoch 1/10\n",
      "11/11 [==============================] - 11s 425ms/step - loss: 0.2995 - f1_score: 0.9268 - val_loss: 0.0249 - val_f1_score: 1.0000\n",
      "Epoch 2/10\n",
      "11/11 [==============================] - 2s 151ms/step - loss: 0.0362 - f1_score: 0.9980 - val_loss: 0.0031 - val_f1_score: 1.0000\n",
      "Epoch 3/10\n",
      "11/11 [==============================] - 2s 151ms/step - loss: 0.0270 - f1_score: 0.9978 - val_loss: 0.0012 - val_f1_score: 1.0000\n",
      "Epoch 4/10\n",
      "11/11 [==============================] - 2s 153ms/step - loss: 0.0161 - f1_score: 0.9978 - val_loss: 0.0011 - val_f1_score: 1.0000\n",
      "Epoch 5/10\n",
      "11/11 [==============================] - 2s 150ms/step - loss: 0.0223 - f1_score: 0.9978 - val_loss: 0.0015 - val_f1_score: 1.0000\n",
      "Epoch 6/10\n",
      "11/11 [==============================] - 2s 149ms/step - loss: 0.0161 - f1_score: 0.9977 - val_loss: 0.0015 - val_f1_score: 1.0000\n",
      "Epoch 7/10\n",
      "11/11 [==============================] - 2s 148ms/step - loss: 0.0155 - f1_score: 0.9980 - val_loss: 0.0020 - val_f1_score: 1.0000\n",
      "Epoch 8/10\n",
      "11/11 [==============================] - 2s 151ms/step - loss: 0.0170 - f1_score: 0.9975 - val_loss: 0.0014 - val_f1_score: 1.0000\n",
      "Epoch 9/10\n",
      "11/11 [==============================] - 2s 151ms/step - loss: 0.0201 - f1_score: 0.9978 - val_loss: 7.3804e-04 - val_f1_score: 1.0000\n",
      "Epoch 10/10\n",
      "11/11 [==============================] - 2s 149ms/step - loss: 0.0191 - f1_score: 0.9974 - val_loss: 7.6593e-04 - val_f1_score: 1.0000\n",
      "Epoch 1/10\n",
      "11/11 [==============================] - 2s 156ms/step - loss: 0.0019 - f1_score: 1.0000 - val_loss: 9.4850e-04 - val_f1_score: 1.0000\n",
      "Epoch 2/10\n",
      "11/11 [==============================] - 2s 151ms/step - loss: 0.0019 - f1_score: 1.0000 - val_loss: 6.6044e-04 - val_f1_score: 1.0000\n",
      "Epoch 3/10\n",
      "11/11 [==============================] - 2s 153ms/step - loss: 0.0015 - f1_score: 1.0000 - val_loss: 4.1920e-04 - val_f1_score: 1.0000\n",
      "Epoch 4/10\n",
      "11/11 [==============================] - 2s 149ms/step - loss: 9.9267e-04 - f1_score: 1.0000 - val_loss: 3.0089e-04 - val_f1_score: 1.0000\n",
      "Epoch 5/10\n",
      "11/11 [==============================] - 2s 151ms/step - loss: 7.5058e-04 - f1_score: 1.0000 - val_loss: 2.3070e-04 - val_f1_score: 1.0000\n",
      "Epoch 6/10\n",
      "11/11 [==============================] - 2s 147ms/step - loss: 5.9619e-04 - f1_score: 1.0000 - val_loss: 1.9192e-04 - val_f1_score: 1.0000\n",
      "Epoch 7/10\n",
      "11/11 [==============================] - 2s 151ms/step - loss: 5.6381e-04 - f1_score: 1.0000 - val_loss: 1.6628e-04 - val_f1_score: 1.0000\n",
      "Epoch 8/10\n",
      "11/11 [==============================] - 2s 148ms/step - loss: 4.6568e-04 - f1_score: 1.0000 - val_loss: 1.4144e-04 - val_f1_score: 1.0000\n",
      "Epoch 9/10\n",
      "11/11 [==============================] - 2s 147ms/step - loss: 4.6415e-04 - f1_score: 1.0000 - val_loss: 1.2541e-04 - val_f1_score: 1.0000\n",
      "Epoch 10/10\n",
      "11/11 [==============================] - 2s 149ms/step - loss: 3.5314e-04 - f1_score: 1.0000 - val_loss: 1.1280e-04 - val_f1_score: 1.0000\n",
      "Epoch 1/10\n",
      "11/11 [==============================] - 2s 151ms/step - loss: 1.1686 - f1_score: 0.6006 - val_loss: 0.4015 - val_f1_score: 0.8255\n",
      "Epoch 2/10\n",
      "11/11 [==============================] - 2s 150ms/step - loss: 0.4466 - f1_score: 0.8485 - val_loss: 0.2008 - val_f1_score: 1.0000\n",
      "Epoch 3/10\n",
      "11/11 [==============================] - 2s 153ms/step - loss: 0.2830 - f1_score: 0.9322 - val_loss: 0.0747 - val_f1_score: 1.0000\n",
      "Epoch 4/10\n",
      "11/11 [==============================] - 2s 154ms/step - loss: 0.1235 - f1_score: 0.9840 - val_loss: 0.0311 - val_f1_score: 1.0000\n",
      "Epoch 5/10\n",
      "11/11 [==============================] - 2s 150ms/step - loss: 0.0967 - f1_score: 0.9856 - val_loss: 0.0162 - val_f1_score: 1.0000\n",
      "Epoch 6/10\n",
      "11/11 [==============================] - 2s 152ms/step - loss: 0.0498 - f1_score: 0.9980 - val_loss: 0.0106 - val_f1_score: 1.0000\n",
      "Epoch 7/10\n",
      "11/11 [==============================] - 2s 152ms/step - loss: 0.0361 - f1_score: 0.9980 - val_loss: 0.0066 - val_f1_score: 1.0000\n",
      "Epoch 8/10\n",
      "11/11 [==============================] - 2s 152ms/step - loss: 0.0249 - f1_score: 0.9980 - val_loss: 0.0028 - val_f1_score: 1.0000\n",
      "Epoch 9/10\n",
      "11/11 [==============================] - 2s 149ms/step - loss: 0.0682 - f1_score: 0.9885 - val_loss: 0.0078 - val_f1_score: 1.0000\n",
      "Epoch 10/10\n",
      "11/11 [==============================] - 2s 148ms/step - loss: 0.0343 - f1_score: 0.9977 - val_loss: 0.0050 - val_f1_score: 1.0000\n",
      "Epoch 1/10\n",
      "11/11 [==============================] - 3s 254ms/step - loss: 0.0413 - f1_score: 0.9916 - val_loss: 0.0019 - val_f1_score: 1.0000\n",
      "Epoch 2/10\n",
      "11/11 [==============================] - 2s 169ms/step - loss: 0.0373 - f1_score: 0.9933 - val_loss: 0.0031 - val_f1_score: 1.0000\n",
      "Epoch 3/10\n",
      "11/11 [==============================] - 2s 147ms/step - loss: 0.0457 - f1_score: 0.9890 - val_loss: 0.0036 - val_f1_score: 1.0000\n",
      "Epoch 4/10\n",
      "11/11 [==============================] - 2s 149ms/step - loss: 0.0263 - f1_score: 1.0000 - val_loss: 0.0015 - val_f1_score: 1.0000\n",
      "Epoch 5/10\n",
      "11/11 [==============================] - 2s 147ms/step - loss: 0.0227 - f1_score: 0.9926 - val_loss: 0.0012 - val_f1_score: 1.0000\n",
      "Epoch 6/10\n",
      "11/11 [==============================] - 2s 153ms/step - loss: 0.0464 - f1_score: 0.9936 - val_loss: 0.0020 - val_f1_score: 1.0000\n",
      "Epoch 7/10\n",
      "11/11 [==============================] - 2s 150ms/step - loss: 0.0249 - f1_score: 0.9943 - val_loss: 0.0011 - val_f1_score: 1.0000\n",
      "Epoch 8/10\n",
      "11/11 [==============================] - 2s 152ms/step - loss: 0.0113 - f1_score: 1.0000 - val_loss: 4.4291e-04 - val_f1_score: 1.0000\n",
      "Epoch 9/10\n",
      "11/11 [==============================] - 2s 146ms/step - loss: 0.0231 - f1_score: 0.9979 - val_loss: 5.0104e-04 - val_f1_score: 1.0000\n",
      "Epoch 10/10\n",
      "11/11 [==============================] - 2s 150ms/step - loss: 0.0224 - f1_score: 0.9955 - val_loss: 0.0010 - val_f1_score: 1.0000\n"
     ]
    }
   ],
   "source": [
    "history_list = []\n",
    "for i in range(4):\n",
    "  history_list.append(model.fit(train_X[i], train_y[i], validation_data=(val_X[i], val_y[i]), shuffle=True,\n",
    "                          epochs=epochs, batch_size=batch_size, verbose=verbose))"
   ]
  },
  {
   "cell_type": "code",
   "execution_count": 21,
   "metadata": {
    "colab": {
     "base_uri": "https://localhost:8080/",
     "height": 1000
    },
    "executionInfo": {
     "elapsed": 2681,
     "status": "ok",
     "timestamp": 1669037879122,
     "user": {
      "displayName": "이휘영",
      "userId": "05780814047568345287"
     },
     "user_tz": -540
    },
    "id": "nDDEf8OnDxnE",
    "outputId": "b77dd45d-ee94-4b39-ea40-e3ab03f91a81"
   },
   "outputs": [
    {
     "data": {
      "image/png": "[encoded data removed]",
      "text/plain": [
       "<Figure size 720x288 with 2 Axes>"
      ]
     },
     "metadata": {
      "needs_background": "light"
     },
     "output_type": "display_data"
    },
    {
     "data": {
      "image/png": "[encoded data removed]",
      "text/plain": [
       "<Figure size 720x288 with 2 Axes>"
      ]
     },
     "metadata": {
      "needs_background": "light"
     },
     "output_type": "display_data"
    },
    {
     "data": {
      "image/png": "[encoded data removed]",
      "text/plain": [
       "<Figure size 720x288 with 2 Axes>"
      ]
     },
     "metadata": {
      "needs_background": "light"
     },
     "output_type": "display_data"
    },
    {
     "data": {
      "image/png": "[encoded data removed]",
      "text/plain": [
       "<Figure size 720x288 with 2 Axes>"
      ]
     },
     "metadata": {
      "needs_background": "light"
     },
     "output_type": "display_data"
    }
   ],
   "source": [
    "import matplotlib.pyplot as plt\n",
    "\n",
    "for history in history_list:\n",
    "  history_dict= history.history\n",
    "\n",
    "  loss = history_dict['loss']\n",
    "  val_loss = history_dict['val_loss']\n",
    "\n",
    "  accuracy = history_dict['f1_score']\n",
    "  val_accuracy = history_dict['val_f1_score']\n",
    "\n",
    "  epochs = range(1, len(loss)+1)\n",
    "\n",
    "  plt.figure(figsize=(10, 4))\n",
    "\n",
    "  plt.subplot(121)\n",
    "\n",
    "\n",
    "  plt.plot(epochs, loss, 'bo',label='training loss')\n",
    "  plt.plot(epochs, val_loss, 'b', label='validation loss')\n",
    "  plt.xlabel('Epochs')\n",
    "  plt.ylabel('Loss') \n",
    "  plt.legend()\n",
    "\n",
    "  plt.subplot(122)\n",
    "\n",
    "\n",
    "  plt.plot(epochs, accuracy, 'bo',label='training f1_score')\n",
    "  plt.plot(epochs, val_accuracy, 'b', label='validation f1_score')\n",
    "  plt.xlabel('Epochs')\n",
    "  plt.ylabel('F1_Score')\n",
    "  plt.ylim((0.5,1.02)) \n",
    "  plt.legend()\n",
    "\n",
    "  plt.tight_layout()\n",
    "  plt.show()"
   ]
  },
  {
   "cell_type": "markdown",
   "metadata": {
    "id": "FcG4h0LTmYSE"
   },
   "source": [
    "test set에 대해 Preprocessing(FFT, FE)한 데이터 자료를 로컬에서 불러옴"
   ]
  },
  {
   "cell_type": "code",
   "execution_count": 23,
   "metadata": {
    "executionInfo": {
     "elapsed": 8,
     "status": "ok",
     "timestamp": 1669037879123,
     "user": {
      "displayName": "이휘영",
      "userId": "05780814047568345287"
     },
     "user_tz": -540
    },
    "id": "sBlVG3kjyPI0"
   },
   "outputs": [],
   "source": [
    "os.chdir(f\"/content/drive/MyDrive/지하배관 안전관리 빅데이터 활용 경진대회/np_{ptype}\")\n",
    "dataset1_X = np.load(\"Dataset1_X.npy\")\n",
    "dataset2_X = np.load(\"Dataset2_X.npy\")\n",
    "dataset3_X = np.load(\"Dataset3_X.npy\")"
   ]
  },
  {
   "cell_type": "code",
   "execution_count": 24,
   "metadata": {
    "colab": {
     "base_uri": "https://localhost:8080/"
    },
    "executionInfo": {
     "elapsed": 8,
     "status": "ok",
     "timestamp": 1669037879123,
     "user": {
      "displayName": "이휘영",
      "userId": "05780814047568345287"
     },
     "user_tz": -540
    },
    "id": "xeEamNgUBtfR",
    "outputId": "a39bae5d-5f4e-4f44-fa50-5e3bba904c69"
   },
   "outputs": [
    {
     "data": {
      "text/plain": [
       "(95, 57, 3)"
      ]
     },
     "execution_count": 24,
     "metadata": {},
     "output_type": "execute_result"
    }
   ],
   "source": [
    "dataset3_X.shape"
   ]
  },
  {
   "cell_type": "code",
   "execution_count": 25,
   "metadata": {
    "colab": {
     "base_uri": "https://localhost:8080/"
    },
    "executionInfo": {
     "elapsed": 1693,
     "status": "ok",
     "timestamp": 1669037880810,
     "user": {
      "displayName": "이휘영",
      "userId": "05780814047568345287"
     },
     "user_tz": -540
    },
    "id": "BlPGzGh46PZz",
    "outputId": "b00ac18a-67b0-4e82-d73b-def8a0007a05"
   },
   "outputs": [
    {
     "name": "stdout",
     "output_type": "stream",
     "text": [
      "12/12 [==============================] - 1s 37ms/step\n",
      "12/12 [==============================] - 0s 37ms/step\n",
      "3/3 [==============================] - 0s 37ms/step\n"
     ]
    }
   ],
   "source": [
    "preds1 = model.predict(dataset1_X)\n",
    "preds2 = model.predict(dataset2_X)\n",
    "preds3 = model.predict(dataset3_X)"
   ]
  },
  {
   "cell_type": "code",
   "execution_count": 26,
   "metadata": {
    "colab": {
     "base_uri": "https://localhost:8080/",
     "height": 611
    },
    "executionInfo": {
     "elapsed": 705,
     "status": "ok",
     "timestamp": 1669037881510,
     "user": {
      "displayName": "이휘영",
      "userId": "05780814047568345287"
     },
     "user_tz": -540
    },
    "id": "8ctnQjkZQpyb",
    "outputId": "eb3c50d6-247f-43df-a277-4b6f82135afd"
   },
   "outputs": [
    {
     "data": {
      "text/plain": [
       "[<matplotlib.lines.Line2D at 0x7f5917c20510>]"
      ]
     },
     "execution_count": 26,
     "metadata": {},
     "output_type": "execute_result"
    },
    {
     "data": {
      "image/png": "[encoded data removed]",
      "text/plain": [
       "<Figure size 720x720 with 3 Axes>"
      ]
     },
     "metadata": {
      "needs_background": "light"
     },
     "output_type": "display_data"
    }
   ],
   "source": [
    "plt.figure(figsize=(10, 10))\n",
    "plt.subplot(311)\n",
    "plt.plot(preds1)\n",
    "plt.subplot(312)\n",
    "plt.plot(preds2)\n",
    "plt.subplot(313)\n",
    "plt.plot(preds3)"
   ]
  },
  {
   "cell_type": "markdown",
   "metadata": {
    "id": "MzOxlyY0mlJV"
   },
   "source": [
    "클래스 분류"
   ]
  },
  {
   "cell_type": "code",
   "execution_count": 27,
   "metadata": {
    "executionInfo": {
     "elapsed": 7,
     "status": "ok",
     "timestamp": 1669037881510,
     "user": {
      "displayName": "이휘영",
      "userId": "05780814047568345287"
     },
     "user_tz": -540
    },
    "id": "487F-DLq6Xt0"
   },
   "outputs": [],
   "source": [
    "threshold = 0.5\n",
    "threshpreds1 = (preds1>threshold)*1\n",
    "threshpreds2 = (preds2>threshold)*1\n",
    "threshpreds3 = (preds3>threshold)*1"
   ]
  },
  {
   "cell_type": "code",
   "execution_count": 28,
   "metadata": {
    "colab": {
     "base_uri": "https://localhost:8080/"
    },
    "executionInfo": {
     "elapsed": 7,
     "status": "ok",
     "timestamp": 1669037881510,
     "user": {
      "displayName": "이휘영",
      "userId": "05780814047568345287"
     },
     "user_tz": -540
    },
    "id": "-JY37H8jBg1O",
    "outputId": "946cd001-6523-41c1-feed-5e390c68dccd"
   },
   "outputs": [
    {
     "data": {
      "text/plain": [
       "array([[0, 0, 0, 0, 0, 0, 0, 0, 0, 0, 0, 0, 0, 0, 0, 0, 0, 0, 0, 0, 0, 0,\n",
       "        0, 0, 0, 0, 0, 0, 0, 0, 0, 0, 0, 0, 0, 0, 0, 0, 0, 0, 0, 0, 0, 0,\n",
       "        0, 0, 0, 0, 0, 0, 0, 0, 0, 0, 0, 0, 0, 0, 0, 0, 0, 0, 0, 0, 0, 0,\n",
       "        0, 0, 0, 0, 0, 0, 0, 0, 0, 0, 0, 0, 0, 0, 0, 0, 0, 0, 0, 0, 0, 0,\n",
       "        0, 0, 0, 0, 0, 0, 0, 0, 0, 0, 0, 0, 0, 0, 0, 0, 0, 0, 0, 0, 0, 0,\n",
       "        0, 0, 0, 0, 0, 0, 0, 0, 0, 0, 1, 0, 0, 0, 1, 0, 1, 0, 1, 0, 1, 1,\n",
       "        1, 1, 1, 1, 1, 1, 1, 1, 1, 1, 1, 1, 1, 1, 1, 1, 1, 0, 1, 1, 1, 1,\n",
       "        1, 1, 1, 1, 1, 1, 1, 0, 1, 1, 1, 1, 1, 1, 1, 0, 1, 1, 0, 1, 1, 1,\n",
       "        1, 1, 1, 0, 1, 0, 0, 1, 1, 0, 1, 1, 0, 0, 1, 0, 0, 1, 1, 1, 1, 1,\n",
       "        1, 0, 1, 1, 0, 1, 1, 0, 1, 1, 1, 1, 1, 1, 1, 0, 1, 1, 1, 1, 0, 1,\n",
       "        1, 0, 0, 1, 0, 1, 1, 1, 1, 0, 1, 0, 1, 1, 1, 0, 1, 0, 1, 1, 1, 1,\n",
       "        1, 0, 0, 0, 0, 1, 1, 1, 1, 0, 0, 0, 1, 1, 0, 1, 0, 0, 0, 0, 0, 0,\n",
       "        0, 1, 0, 1, 1, 1, 1, 0, 0, 1, 1, 1, 1, 1, 0, 0, 1, 0, 0, 1, 0, 0,\n",
       "        1, 1, 0, 0, 0, 1, 1, 0, 0, 1, 1, 0, 1, 1, 1, 1, 1, 1, 1, 1, 0, 0,\n",
       "        1, 1, 1, 1, 1, 1, 0, 0, 0, 0, 1, 1, 1, 1, 1, 1, 1, 0, 0, 0, 1, 1,\n",
       "        1, 0, 1, 1, 1, 0, 0, 1, 0, 0, 1, 0, 1, 1, 1, 1, 1, 1, 1, 1, 0, 1,\n",
       "        1, 0, 0, 1, 0, 0, 1, 0]])"
      ]
     },
     "execution_count": 28,
     "metadata": {},
     "output_type": "execute_result"
    }
   ],
   "source": [
    "threshpreds2.T"
   ]
  },
  {
   "cell_type": "markdown",
   "metadata": {
    "id": "1wwd20fBmtay"
   },
   "source": [
    "submission을 위해 로컬 저장"
   ]
  },
  {
   "cell_type": "code",
   "execution_count": 29,
   "metadata": {
    "executionInfo": {
     "elapsed": 6,
     "status": "ok",
     "timestamp": 1669037881511,
     "user": {
      "displayName": "이휘영",
      "userId": "05780814047568345287"
     },
     "user_tz": -540
    },
    "id": "I-KRKTLtosLK"
   },
   "outputs": [],
   "source": [
    "os.chdir(f\"/content/drive/MyDrive/지하배관 안전관리 빅데이터 활용 경진대회/np_localization\")\n",
    "np.save(\"dataset1_bool.npy\", threshpreds1)\n",
    "np.save(\"dataset2_bool.npy\", threshpreds2)\n",
    "np.save(\"dataset3_bool.npy\", threshpreds3)"
   ]
  },
  {
   "cell_type": "code",
   "execution_count": 30,
   "metadata": {
    "executionInfo": {
     "elapsed": 6,
     "status": "ok",
     "timestamp": 1669037881511,
     "user": {
      "displayName": "이휘영",
      "userId": "05780814047568345287"
     },
     "user_tz": -540
    },
    "id": "0St_v5Idlr4Y"
   },
   "outputs": [],
   "source": [
    "threshpreds1 = np.array(list(map(lambda x: \"Y\" if int(x) else \"N\", list(threshpreds1))))\n",
    "threshpreds2 = np.array(list(map(lambda x: \"Y\" if int(x) else \"N\", list(threshpreds2))))\n",
    "threshpreds3 = np.array(list(map(lambda x: \"Y\" if int(x) else \"N\", list(threshpreds3))))"
   ]
  },
  {
   "cell_type": "code",
   "execution_count": 31,
   "metadata": {
    "executionInfo": {
     "elapsed": 5,
     "status": "ok",
     "timestamp": 1669037881511,
     "user": {
      "displayName": "이휘영",
      "userId": "05780814047568345287"
     },
     "user_tz": -540
    },
    "id": "GvNUXSwb_-AZ"
   },
   "outputs": [],
   "source": [
    "os.chdir(f\"/content/drive/MyDrive/지하배관 안전관리 빅데이터 활용 경진대회/submission\")\n",
    "np.save(\"dataset1_y.npy\", threshpreds1)\n",
    "np.save(\"dataset2_y.npy\", threshpreds2)\n",
    "np.save(\"dataset3_y.npy\", threshpreds3)"
   ]
  },
  {
   "cell_type": "code",
   "execution_count": 32,
   "metadata": {
    "executionInfo": {
     "elapsed": 5,
     "status": "ok",
     "timestamp": 1669037881511,
     "user": {
      "displayName": "이휘영",
      "userId": "05780814047568345287"
     },
     "user_tz": -540
    },
    "id": "O3fC8Yc57E1w"
   },
   "outputs": [],
   "source": [
    "model.save('/content/drive/MyDrive/지하배관 안전관리 빅데이터 활용 경진대회/submission/leakage_detection.h5')"
   ]
  }
 ],
 "metadata": {
  "colab": {
   "authorship_tag": "ABX9TyNgHaOfZWKd+NYtuKKOjczg",
   "provenance": []
  },
  "kernelspec": {
   "display_name": "Python 3",
   "language": "python",
   "name": "python3"
  },
  "language_info": {
   "codemirror_mode": {
    "name": "ipython",
    "version": 3
   },
   "file_extension": ".py",
   "mimetype": "text/x-python",
   "name": "python",
   "nbconvert_exporter": "python",
   "pygments_lexer": "ipython3",
   "version": "3.8.3"
  }
 },
 "nbformat": 4,
 "nbformat_minor": 1
}
